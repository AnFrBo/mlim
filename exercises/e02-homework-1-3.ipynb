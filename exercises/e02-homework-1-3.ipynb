{
 "cells": [
  {
   "cell_type": "markdown",
   "metadata": {},
   "source": [
    "# Exercise 02: Homework Assignment 1.3\n",
    "\n",
    "## Task\n",
    "\n",
    "Write a program that calculates how often product pairs occur together in the same shopping basket.  With `J` products, this produces a matrix of size `JxJ`.  Use the Instacart market basket data to test your program.  Use the variables order_id and product_id."
   ]
  },
  {
   "cell_type": "code",
   "execution_count": 1,
   "metadata": {},
   "outputs": [],
   "source": [
    "import tqdm\n",
    "\n",
    "import scipy.sparse\n",
    "\n",
    "import numpy as np\n",
    "import pandas as pd"
   ]
  },
  {
   "cell_type": "markdown",
   "metadata": {},
   "source": [
    "## Test data\n",
    "\n",
    "Create some data and refrence result.  The reference solution is created in a very naïve way taht is bullet proof.  Not efficient but sufficient for small data.  We can compare proper solutions with this ground truth."
   ]
  },
  {
   "cell_type": "code",
   "execution_count": 2,
   "metadata": {},
   "outputs": [],
   "source": [
    "np.random.seed(501)"
   ]
  },
  {
   "cell_type": "code",
   "execution_count": 3,
   "metadata": {},
   "outputs": [],
   "source": [
    "n_baskets = 8\n",
    "n_products = 8\n",
    "max_n_products = 4"
   ]
  },
  {
   "cell_type": "code",
   "execution_count": 4,
   "metadata": {},
   "outputs": [
    {
     "data": {
      "text/plain": [
       "[array([4, 2, 6]),\n",
       " array([6, 4, 3]),\n",
       " array([0, 7, 4]),\n",
       " array([7, 2]),\n",
       " array([3, 2, 7]),\n",
       " array([0, 4]),\n",
       " array([6, 1]),\n",
       " array([4, 7])]"
      ]
     },
     "execution_count": 4,
     "metadata": {},
     "output_type": "execute_result"
    }
   ],
   "source": [
    "basket_list = []\n",
    "for _ in range(n_baskets):\n",
    "    size_b = np.random.choice(range(2, max_n_products))\n",
    "    basket_list.append(np.random.choice(n_products, size_b, replace=False))\n",
    "basket_list"
   ]
  },
  {
   "cell_type": "code",
   "execution_count": 5,
   "metadata": {},
   "outputs": [
    {
     "data": {
      "text/html": [
       "<div>\n",
       "<style scoped>\n",
       "    .dataframe tbody tr th:only-of-type {\n",
       "        vertical-align: middle;\n",
       "    }\n",
       "\n",
       "    .dataframe tbody tr th {\n",
       "        vertical-align: top;\n",
       "    }\n",
       "\n",
       "    .dataframe thead th {\n",
       "        text-align: right;\n",
       "    }\n",
       "</style>\n",
       "<table border=\"1\" class=\"dataframe\">\n",
       "  <thead>\n",
       "    <tr style=\"text-align: right;\">\n",
       "      <th></th>\n",
       "      <th>basket</th>\n",
       "      <th>product</th>\n",
       "    </tr>\n",
       "  </thead>\n",
       "  <tbody>\n",
       "    <tr>\n",
       "      <th>0</th>\n",
       "      <td>0</td>\n",
       "      <td>4</td>\n",
       "    </tr>\n",
       "    <tr>\n",
       "      <th>1</th>\n",
       "      <td>0</td>\n",
       "      <td>2</td>\n",
       "    </tr>\n",
       "    <tr>\n",
       "      <th>2</th>\n",
       "      <td>0</td>\n",
       "      <td>6</td>\n",
       "    </tr>\n",
       "    <tr>\n",
       "      <th>3</th>\n",
       "      <td>1</td>\n",
       "      <td>6</td>\n",
       "    </tr>\n",
       "    <tr>\n",
       "      <th>4</th>\n",
       "      <td>1</td>\n",
       "      <td>4</td>\n",
       "    </tr>\n",
       "  </tbody>\n",
       "</table>\n",
       "</div>"
      ],
      "text/plain": [
       "   basket  product\n",
       "0       0        4\n",
       "1       0        2\n",
       "2       0        6\n",
       "3       1        6\n",
       "4       1        4"
      ]
     },
     "execution_count": 5,
     "metadata": {},
     "output_type": "execute_result"
    }
   ],
   "source": [
    "basket_df = pd.DataFrame({\n",
    "    \"basket\": np.repeat(range(len(basket_list)), [len(x) for x in basket_list]),\n",
    "    \"product\": [y for x in basket_list for y in x],\n",
    "})\n",
    "basket_df.head()"
   ]
  },
  {
   "cell_type": "code",
   "execution_count": 6,
   "metadata": {},
   "outputs": [
    {
     "data": {
      "text/plain": [
       "array([[2, 0, 0, 0, 2, 0, 0, 1],\n",
       "       [0, 1, 0, 0, 0, 0, 1, 0],\n",
       "       [0, 0, 3, 1, 1, 0, 1, 2],\n",
       "       [0, 0, 1, 2, 1, 0, 1, 1],\n",
       "       [2, 0, 1, 1, 5, 0, 2, 2],\n",
       "       [0, 0, 0, 0, 0, 0, 0, 0],\n",
       "       [0, 1, 1, 1, 2, 0, 3, 0],\n",
       "       [1, 0, 2, 1, 2, 0, 0, 4]])"
      ]
     },
     "execution_count": 6,
     "metadata": {},
     "output_type": "execute_result"
    }
   ],
   "source": [
    "truth = np.zeros((n_products, n_products), dtype=int)\n",
    "\n",
    "for b in basket_list:\n",
    "    for j in b:\n",
    "        for i in b:\n",
    "            truth[i, j] += 1\n",
    "\n",
    "# diagonal is the count of baskets that products occur in\n",
    "assert np.all(\n",
    "    basket_df.sort_values(\"product\").groupby(\"product\").basket.count().values\n",
    "    == np.diag(truth)[np.diag(truth)>0]\n",
    ")\n",
    "\n",
    "# matrix is symmetric\n",
    "assert np.all(truth == truth.T)\n",
    "\n",
    "truth"
   ]
  },
  {
   "cell_type": "markdown",
   "metadata": {},
   "source": [
    "## Computation of co-occurrences using list"
   ]
  },
  {
   "cell_type": "code",
   "execution_count": 7,
   "metadata": {},
   "outputs": [],
   "source": [
    "# turn the input data frame into a list of baskets, each basket is a list of products\n",
    "# slightly more than we need now, but we'll see this function again in one of the future exercises\n",
    "def baskets_df_to_list(\n",
    "    x,\n",
    "    variable_basket=\"basket\",\n",
    "    variable_product=\"product\",\n",
    "    min_basket_size=0,\n",
    "    shuffle=False,\n",
    "    to_string=False,\n",
    "    seed=501,\n",
    "):\n",
    "\n",
    "    # create raw basket list\n",
    "    x_basket_product = x[[variable_basket, variable_product]]\n",
    "    n_products = x[variable_product].max() + 1\n",
    "    keys, values = x_basket_product.sort_values(variable_basket).values.T\n",
    "    ukeys, index = np.unique(keys, True)\n",
    "    arrays = np.split(values, index)\n",
    "    basket_list = [list(set(a)) for a in arrays[1:]]\n",
    "\n",
    "    # format basket list\n",
    "    basket_list_out = []\n",
    "    for basket in basket_list:\n",
    "        if len(basket) >= min_basket_size:\n",
    "            if to_string:\n",
    "                basket_list_out.append([str(x) for x in basket])\n",
    "            else:\n",
    "                basket_list_out.append(basket)\n",
    "\n",
    "    # randomise basket order and product order in baskets\n",
    "    if shuffle:\n",
    "        np.random.seed(seed)\n",
    "        np.random.shuffle(basket_list_out)\n",
    "        for i in range(len(basket_list_out)):\n",
    "            np.random.shuffle(basket_list_out[i])\n",
    "\n",
    "    return basket_list_out, n_products\n",
    "\n",
    "# for each basket increase the co-occurrence counts for the products in the basket by 1\n",
    "def co_occurrences_list(x, variable_basket=\"basket\", variable_product=\"product\"):\n",
    "    basket_list, n_products = baskets_df_to_list(\n",
    "        x=x,\n",
    "        variable_basket=variable_basket,\n",
    "        variable_product=variable_product,\n",
    "        min_basket_size=0,\n",
    "        shuffle=False,\n",
    "        to_string=False,\n",
    "    )\n",
    "\n",
    "    co_occurrences = np.zeros((n_products, n_products), dtype=int)\n",
    "    for b in tqdm.tqdm(basket_list):\n",
    "        co_occurrences[np.ix_(b, b)] += 1\n",
    "\n",
    "    return co_occurrences"
   ]
  },
  {
   "cell_type": "code",
   "execution_count": 8,
   "metadata": {},
   "outputs": [
    {
     "name": "stderr",
     "output_type": "stream",
     "text": [
      "100%|██████████| 8/8 [00:00<00:00, 7699.50it/s]\n"
     ]
    },
    {
     "data": {
      "text/plain": [
       "array([[2, 0, 0, 0, 2, 0, 0, 1],\n",
       "       [0, 1, 0, 0, 0, 0, 1, 0],\n",
       "       [0, 0, 3, 1, 1, 0, 1, 2],\n",
       "       [0, 0, 1, 2, 1, 0, 1, 1],\n",
       "       [2, 0, 1, 1, 5, 0, 2, 2],\n",
       "       [0, 0, 0, 0, 0, 0, 0, 0],\n",
       "       [0, 1, 1, 1, 2, 0, 3, 0],\n",
       "       [1, 0, 2, 1, 2, 0, 0, 4]])"
      ]
     },
     "execution_count": 8,
     "metadata": {},
     "output_type": "execute_result"
    }
   ],
   "source": [
    "co_occurrences = co_occurrences_list(basket_df)\n",
    "assert np.all(truth == co_occurrences)\n",
    "co_occurrences"
   ]
  },
  {
   "cell_type": "markdown",
   "metadata": {},
   "source": [
    "## Computation of co-occurrences using sparse matrix"
   ]
  },
  {
   "cell_type": "code",
   "execution_count": 9,
   "metadata": {},
   "outputs": [],
   "source": [
    "# create a (binary) space matrix that indicates whether a basket (row) contains a product (col)\n",
    "# co-occurrences are the dot produdct of this basket-product matrix\n",
    "def co_occurrences_sparse(x, variable_basket=\"basket\", variable_product=\"product\"):\n",
    "    row = x[variable_basket].values\n",
    "    col = x[variable_product].values\n",
    "    dim = (x[variable_basket].max()+1, x[variable_product].max()+1)\n",
    "\n",
    "    basket_product_table = scipy.sparse.csr_matrix(\n",
    "        (np.ones(len(row), dtype=int), (row, col)),\n",
    "        shape=dim\n",
    "    )\n",
    "    co_occurrences_sparse = basket_product_table.T.dot(basket_product_table)\n",
    "    co_occurrences_dense = co_occurrences_sparse.toarray()\n",
    "    return co_occurrences_dense"
   ]
  },
  {
   "cell_type": "code",
   "execution_count": 10,
   "metadata": {},
   "outputs": [
    {
     "data": {
      "text/plain": [
       "array([[2, 0, 0, 0, 2, 0, 0, 1],\n",
       "       [0, 1, 0, 0, 0, 0, 1, 0],\n",
       "       [0, 0, 3, 1, 1, 0, 1, 2],\n",
       "       [0, 0, 1, 2, 1, 0, 1, 1],\n",
       "       [2, 0, 1, 1, 5, 0, 2, 2],\n",
       "       [0, 0, 0, 0, 0, 0, 0, 0],\n",
       "       [0, 1, 1, 1, 2, 0, 3, 0],\n",
       "       [1, 0, 2, 1, 2, 0, 0, 4]])"
      ]
     },
     "execution_count": 10,
     "metadata": {},
     "output_type": "execute_result"
    }
   ],
   "source": [
    "co_occurrences_2 = co_occurrences_sparse(basket_df)\n",
    "assert np.all(truth == co_occurrences_2)\n",
    "co_occurrences_2"
   ]
  },
  {
   "cell_type": "markdown",
   "metadata": {},
   "source": [
    "## Apply to a real world data set"
   ]
  },
  {
   "cell_type": "code",
   "execution_count": 11,
   "metadata": {},
   "outputs": [],
   "source": [
    "PATH = \"/private/data/teaching/instacart_exercise_2\""
   ]
  },
  {
   "cell_type": "code",
   "execution_count": 12,
   "metadata": {},
   "outputs": [],
   "source": [
    "products = pd.read_parquet(f\"{PATH}/products.parquet\")\n",
    "n_products = products.shape[0]\n",
    "\n",
    "baskets_df_instacart = pd.read_parquet(f\"{PATH}/baskets.parquet\")"
   ]
  },
  {
   "cell_type": "code",
   "execution_count": 13,
   "metadata": {},
   "outputs": [
    {
     "data": {
      "text/html": [
       "<div>\n",
       "<style scoped>\n",
       "    .dataframe tbody tr th:only-of-type {\n",
       "        vertical-align: middle;\n",
       "    }\n",
       "\n",
       "    .dataframe tbody tr th {\n",
       "        vertical-align: top;\n",
       "    }\n",
       "\n",
       "    .dataframe thead th {\n",
       "        text-align: right;\n",
       "    }\n",
       "</style>\n",
       "<table border=\"1\" class=\"dataframe\">\n",
       "  <thead>\n",
       "    <tr style=\"text-align: right;\">\n",
       "      <th></th>\n",
       "      <th>order_id</th>\n",
       "      <th>product_id</th>\n",
       "      <th>add_to_cart_order</th>\n",
       "      <th>reordered</th>\n",
       "    </tr>\n",
       "  </thead>\n",
       "  <tbody>\n",
       "    <tr>\n",
       "      <th>0</th>\n",
       "      <td>2</td>\n",
       "      <td>33120</td>\n",
       "      <td>1</td>\n",
       "      <td>1</td>\n",
       "    </tr>\n",
       "    <tr>\n",
       "      <th>1</th>\n",
       "      <td>2</td>\n",
       "      <td>28985</td>\n",
       "      <td>2</td>\n",
       "      <td>1</td>\n",
       "    </tr>\n",
       "    <tr>\n",
       "      <th>3</th>\n",
       "      <td>2</td>\n",
       "      <td>45918</td>\n",
       "      <td>4</td>\n",
       "      <td>1</td>\n",
       "    </tr>\n",
       "    <tr>\n",
       "      <th>7</th>\n",
       "      <td>2</td>\n",
       "      <td>1819</td>\n",
       "      <td>8</td>\n",
       "      <td>1</td>\n",
       "    </tr>\n",
       "    <tr>\n",
       "      <th>4</th>\n",
       "      <td>2</td>\n",
       "      <td>30035</td>\n",
       "      <td>5</td>\n",
       "      <td>0</td>\n",
       "    </tr>\n",
       "  </tbody>\n",
       "</table>\n",
       "</div>"
      ],
      "text/plain": [
       "   order_id  product_id  add_to_cart_order  reordered\n",
       "0         2       33120                  1          1\n",
       "1         2       28985                  2          1\n",
       "3         2       45918                  4          1\n",
       "7         2        1819                  8          1\n",
       "4         2       30035                  5          0"
      ]
     },
     "execution_count": 13,
     "metadata": {},
     "output_type": "execute_result"
    }
   ],
   "source": [
    "baskets_df_instacart.head()"
   ]
  },
  {
   "cell_type": "code",
   "execution_count": 14,
   "metadata": {},
   "outputs": [
    {
     "data": {
      "text/plain": [
       "'3,214,874'"
      ]
     },
     "execution_count": 14,
     "metadata": {},
     "output_type": "execute_result"
    }
   ],
   "source": [
    "f\"{baskets_df_instacart.order_id.nunique():,}\""
   ]
  },
  {
   "cell_type": "code",
   "execution_count": 15,
   "metadata": {},
   "outputs": [
    {
     "name": "stderr",
     "output_type": "stream",
     "text": [
      "100%|██████████| 3214874/3214874 [04:13<00:00, 12666.23it/s]\n"
     ]
    }
   ],
   "source": [
    "co_occurrences = co_occurrences_list(\n",
    "    x=baskets_df_instacart,\n",
    "    variable_basket=\"order_id\",\n",
    "    variable_product=\"product_id\",\n",
    ")"
   ]
  },
  {
   "cell_type": "code",
   "execution_count": 16,
   "metadata": {},
   "outputs": [],
   "source": [
    "co_occurrences_2 = co_occurrences_sparse(\n",
    "    x=baskets_df_instacart,\n",
    "    variable_basket=\"order_id\",\n",
    "    variable_product=\"product_id\",\n",
    ")"
   ]
  },
  {
   "cell_type": "code",
   "execution_count": 17,
   "metadata": {},
   "outputs": [],
   "source": [
    "# only use a (random) subset of product pairs so the comparison is quicker\n",
    "idx = np.random.choice(co_occurrences_2.shape[0], 5_000)\n",
    "assert np.all(\n",
    "    co_occurrences[np.ix_(idx, idx)]\n",
    "    == co_occurrences_2[np.ix_(idx, idx)]\n",
    ")"
   ]
  },
  {
   "cell_type": "markdown",
   "metadata": {},
   "source": [
    "## Some time measurements"
   ]
  },
  {
   "cell_type": "code",
   "execution_count": 18,
   "metadata": {},
   "outputs": [],
   "source": [
    "%load_ext line_profiler"
   ]
  },
  {
   "cell_type": "code",
   "execution_count": 19,
   "metadata": {},
   "outputs": [],
   "source": [
    "baskets_df_instacart_sample = baskets_df_instacart[baskets_df_instacart[\"order_id\"]<10_000]"
   ]
  },
  {
   "cell_type": "code",
   "execution_count": 20,
   "metadata": {},
   "outputs": [
    {
     "name": "stderr",
     "output_type": "stream",
     "text": [
      "100%|██████████| 9428/9428 [00:02<00:00, 4457.60it/s]\n"
     ]
    },
    {
     "data": {
      "text/plain": [
       "Timer unit: 1e-06 s\n",
       "\n",
       "Total time: 8.39968 s\n",
       "File: <ipython-input-7-267f15c8aca5>\n",
       "Function: co_occurrences_list at line 40\n",
       "\n",
       "Line #      Hits         Time  Per Hit   % Time  Line Contents\n",
       "==============================================================\n",
       "    40                                           def co_occurrences_list(x, variable_basket=\"basket\", variable_product=\"product\"):\n",
       "    41         2    6289788.0 3144894.0     74.9      basket_list, n_products = baskets_df_to_list(\n",
       "    42         1          2.0      2.0      0.0          x=x,\n",
       "    43         1          0.0      0.0      0.0          variable_basket=variable_basket,\n",
       "    44         1          1.0      1.0      0.0          variable_product=variable_product,\n",
       "    45         1          1.0      1.0      0.0          min_basket_size=0,\n",
       "    46         1          1.0      1.0      0.0          shuffle=False,\n",
       "    47         1          1.0      1.0      0.0          to_string=False,\n",
       "    48                                               )\n",
       "    49                                           \n",
       "    50         1       4430.0   4430.0      0.1      co_occurrences = np.zeros((n_products, n_products), dtype=int)\n",
       "    51      9429      73948.0      7.8      0.9      for b in tqdm.tqdm(basket_list):\n",
       "    52      9428    2031502.0    215.5     24.2          co_occurrences[np.ix_(b, b)] += 1\n",
       "    53                                           \n",
       "    54         1          2.0      2.0      0.0      return co_occurrences"
      ]
     },
     "metadata": {},
     "output_type": "display_data"
    }
   ],
   "source": [
    "%lprun -f co_occurrences_list co_occurrences_list(x=baskets_df_instacart_sample, variable_basket=\"order_id\", variable_product=\"product_id\")"
   ]
  },
  {
   "cell_type": "code",
   "execution_count": 21,
   "metadata": {},
   "outputs": [
    {
     "data": {
      "text/plain": [
       "Timer unit: 1e-06 s\n",
       "\n",
       "Total time: 0.985196 s\n",
       "File: <ipython-input-9-4a29580ae69f>\n",
       "Function: co_occurrences_sparse at line 3\n",
       "\n",
       "Line #      Hits         Time  Per Hit   % Time  Line Contents\n",
       "==============================================================\n",
       "     3                                           def co_occurrences_sparse(x, variable_basket=\"basket\", variable_product=\"product\"):\n",
       "     4         1        208.0    208.0      0.0      row = x[variable_basket].values\n",
       "     5         1         19.0     19.0      0.0      col = x[variable_product].values\n",
       "     6         1       1126.0   1126.0      0.1      dim = (x[variable_basket].max()+1, x[variable_product].max()+1)\n",
       "     7                                           \n",
       "     8         2       8340.0   4170.0      0.8      basket_product_table = scipy.sparse.csr_matrix(\n",
       "     9         1        401.0    401.0      0.0          (np.ones(len(row), dtype=int), (row, col)),\n",
       "    10         1          2.0      2.0      0.0          shape=dim\n",
       "    11                                               )\n",
       "    12         1      41552.0  41552.0      4.2      co_occurrences_sparse = basket_product_table.T.dot(basket_product_table)\n",
       "    13         1     933547.0 933547.0     94.8      co_occurrences_dense = co_occurrences_sparse.toarray()\n",
       "    14         1          1.0      1.0      0.0      return co_occurrences_dense"
      ]
     },
     "metadata": {},
     "output_type": "display_data"
    }
   ],
   "source": [
    "%lprun -f co_occurrences_sparse co_occurrences_sparse(x=baskets_df_instacart_sample, variable_basket=\"order_id\", variable_product=\"product_id\")"
   ]
  },
  {
   "cell_type": "markdown",
   "metadata": {},
   "source": [
    "## Pure sparse implementation\n",
    "\n",
    "So actually if we keep the data sparse we can speed up the computation significantly.\n",
    "\n",
    "#### Implement sparse calculation, return pandas data frame"
   ]
  },
  {
   "cell_type": "code",
   "execution_count": 22,
   "metadata": {},
   "outputs": [],
   "source": [
    "# create a (binary) space matrix that indicates whether a basket (row) contains a product (col)\n",
    "# co-occurrences are the dot produdct of this basket-product matrix\n",
    "# return data frame\n",
    "def co_occurrences_sparse_2(x, variable_basket=\"basket\", variable_product=\"product\"):\n",
    "    row = x[variable_basket].values\n",
    "    col = x[variable_product].values\n",
    "    dim = (x[variable_basket].max()+1, x[variable_product].max()+1)\n",
    "\n",
    "    basket_product_table = scipy.sparse.csr_matrix(\n",
    "        (np.ones(len(row), dtype=int), (row, col)),\n",
    "        shape=dim\n",
    "    )\n",
    "    co_occurrences_sparse = basket_product_table.T.dot(basket_product_table).tocoo()\n",
    "    co_occurrences_df = pd.DataFrame({\n",
    "        \"product_1\": co_occurrences_sparse.row,\n",
    "        \"product_2\": co_occurrences_sparse.col,\n",
    "        \"co-occurrence\": co_occurrences_sparse.data,\n",
    "    })\n",
    "    return co_occurrences_df"
   ]
  },
  {
   "cell_type": "code",
   "execution_count": 23,
   "metadata": {},
   "outputs": [
    {
     "data": {
      "text/plain": [
       "Timer unit: 1e-06 s\n",
       "\n",
       "Total time: 0.060717 s\n",
       "File: <ipython-input-22-89ec51a841c8>\n",
       "Function: co_occurrences_sparse_2 at line 4\n",
       "\n",
       "Line #      Hits         Time  Per Hit   % Time  Line Contents\n",
       "==============================================================\n",
       "     4                                           def co_occurrences_sparse_2(x, variable_basket=\"basket\", variable_product=\"product\"):\n",
       "     5         1         39.0     39.0      0.1      row = x[variable_basket].values\n",
       "     6         1         11.0     11.0      0.0      col = x[variable_product].values\n",
       "     7         1        889.0    889.0      1.5      dim = (x[variable_basket].max()+1, x[variable_product].max()+1)\n",
       "     8                                           \n",
       "     9         2       5074.0   2537.0      8.4      basket_product_table = scipy.sparse.csr_matrix(\n",
       "    10         1        146.0    146.0      0.2          (np.ones(len(row), dtype=int), (row, col)),\n",
       "    11         1          1.0      1.0      0.0          shape=dim\n",
       "    12                                               )\n",
       "    13         1      44600.0  44600.0     73.5      co_occurrences_sparse = basket_product_table.T.dot(basket_product_table).tocoo()\n",
       "    14         2       9952.0   4976.0     16.4      co_occurrences_df = pd.DataFrame({\n",
       "    15         1          1.0      1.0      0.0          \"product_1\": co_occurrences_sparse.row,\n",
       "    16         1          1.0      1.0      0.0          \"product_2\": co_occurrences_sparse.col,\n",
       "    17         1          1.0      1.0      0.0          \"co-occurrence\": co_occurrences_sparse.data,\n",
       "    18                                               })\n",
       "    19         1          2.0      2.0      0.0      return co_occurrences_df"
      ]
     },
     "metadata": {},
     "output_type": "display_data"
    }
   ],
   "source": [
    "%lprun -f co_occurrences_sparse_2 co_occurrences_sparse_2(x=baskets_df_instacart_sample, variable_basket=\"order_id\", variable_product=\"product_id\")"
   ]
  },
  {
   "cell_type": "markdown",
   "metadata": {},
   "source": [
    "#### produce result"
   ]
  },
  {
   "cell_type": "code",
   "execution_count": 24,
   "metadata": {},
   "outputs": [
    {
     "data": {
      "text/html": [
       "<div>\n",
       "<style scoped>\n",
       "    .dataframe tbody tr th:only-of-type {\n",
       "        vertical-align: middle;\n",
       "    }\n",
       "\n",
       "    .dataframe tbody tr th {\n",
       "        vertical-align: top;\n",
       "    }\n",
       "\n",
       "    .dataframe thead th {\n",
       "        text-align: right;\n",
       "    }\n",
       "</style>\n",
       "<table border=\"1\" class=\"dataframe\">\n",
       "  <thead>\n",
       "    <tr style=\"text-align: right;\">\n",
       "      <th></th>\n",
       "      <th>index</th>\n",
       "      <th>product_1</th>\n",
       "      <th>product_2</th>\n",
       "      <th>co-occurrence</th>\n",
       "    </tr>\n",
       "  </thead>\n",
       "  <tbody>\n",
       "    <tr>\n",
       "      <th>0</th>\n",
       "      <td>65</td>\n",
       "      <td>1</td>\n",
       "      <td>1</td>\n",
       "      <td>6</td>\n",
       "    </tr>\n",
       "    <tr>\n",
       "      <th>1</th>\n",
       "      <td>3599</td>\n",
       "      <td>1</td>\n",
       "      <td>196</td>\n",
       "      <td>1</td>\n",
       "    </tr>\n",
       "    <tr>\n",
       "      <th>2</th>\n",
       "      <td>14225</td>\n",
       "      <td>1</td>\n",
       "      <td>769</td>\n",
       "      <td>1</td>\n",
       "    </tr>\n",
       "    <tr>\n",
       "      <th>3</th>\n",
       "      <td>68266</td>\n",
       "      <td>1</td>\n",
       "      <td>3798</td>\n",
       "      <td>1</td>\n",
       "    </tr>\n",
       "    <tr>\n",
       "      <th>4</th>\n",
       "      <td>77418</td>\n",
       "      <td>1</td>\n",
       "      <td>4210</td>\n",
       "      <td>1</td>\n",
       "    </tr>\n",
       "    <tr>\n",
       "      <th>...</th>\n",
       "      <td>...</td>\n",
       "      <td>...</td>\n",
       "      <td>...</td>\n",
       "      <td>...</td>\n",
       "    </tr>\n",
       "    <tr>\n",
       "      <th>1114398</th>\n",
       "      <td>677850</td>\n",
       "      <td>49685</td>\n",
       "      <td>30489</td>\n",
       "      <td>1</td>\n",
       "    </tr>\n",
       "    <tr>\n",
       "      <th>1114399</th>\n",
       "      <td>774587</td>\n",
       "      <td>49685</td>\n",
       "      <td>34939</td>\n",
       "      <td>1</td>\n",
       "    </tr>\n",
       "    <tr>\n",
       "      <th>1114400</th>\n",
       "      <td>1114393</td>\n",
       "      <td>49685</td>\n",
       "      <td>49685</td>\n",
       "      <td>1</td>\n",
       "    </tr>\n",
       "    <tr>\n",
       "      <th>1114401</th>\n",
       "      <td>252370</td>\n",
       "      <td>49686</td>\n",
       "      <td>12204</td>\n",
       "      <td>1</td>\n",
       "    </tr>\n",
       "    <tr>\n",
       "      <th>1114402</th>\n",
       "      <td>1114401</td>\n",
       "      <td>49686</td>\n",
       "      <td>49686</td>\n",
       "      <td>1</td>\n",
       "    </tr>\n",
       "  </tbody>\n",
       "</table>\n",
       "<p>1114403 rows × 4 columns</p>\n",
       "</div>"
      ],
      "text/plain": [
       "           index  product_1  product_2  co-occurrence\n",
       "0             65          1          1              6\n",
       "1           3599          1        196              1\n",
       "2          14225          1        769              1\n",
       "3          68266          1       3798              1\n",
       "4          77418          1       4210              1\n",
       "...          ...        ...        ...            ...\n",
       "1114398   677850      49685      30489              1\n",
       "1114399   774587      49685      34939              1\n",
       "1114400  1114393      49685      49685              1\n",
       "1114401   252370      49686      12204              1\n",
       "1114402  1114401      49686      49686              1\n",
       "\n",
       "[1114403 rows x 4 columns]"
      ]
     },
     "execution_count": 24,
     "metadata": {},
     "output_type": "execute_result"
    }
   ],
   "source": [
    "co_occurrences_df = co_occurrences_sparse_2(\n",
    "    x=baskets_df_instacart_sample,\n",
    "    variable_basket=\"order_id\",\n",
    "    variable_product=\"product_id\"\n",
    ")\n",
    "co_occurrences_df = co_occurrences_df.sort_values([\"product_1\", \"product_2\"]).reset_index()\n",
    "co_occurrences_df"
   ]
  },
  {
   "cell_type": "markdown",
   "metadata": {},
   "source": [
    "#### Check whether the results is correct"
   ]
  },
  {
   "cell_type": "code",
   "execution_count": 25,
   "metadata": {},
   "outputs": [
    {
     "name": "stderr",
     "output_type": "stream",
     "text": [
      "100%|██████████| 9428/9428 [00:01<00:00, 6595.68it/s]\n"
     ]
    }
   ],
   "source": [
    "reference_result = co_occurrences_list(\n",
    "    x=baskets_df_instacart_sample,\n",
    "    variable_basket=\"order_id\",\n",
    "    variable_product=\"product_id\"\n",
    ")"
   ]
  },
  {
   "cell_type": "code",
   "execution_count": 26,
   "metadata": {},
   "outputs": [],
   "source": [
    "matrix_from_co_occurrences_df = np.zeros(reference_result.shape)\n",
    "matrix_from_co_occurrences_df[(co_occurrences_df[\"product_1\"], co_occurrences_df[\"product_2\"])] = co_occurrences_df[\"co-occurrence\"].values\n",
    "assert np.all(reference_result == matrix_from_co_occurrences_df)"
   ]
  },
  {
   "cell_type": "markdown",
   "metadata": {},
   "source": [
    "&mdash; <br>\n",
    "Dr. Sebastian Gabel <br>\n",
    "Machine Learning in Marketing &ndash; Exercise 2 <br>\n",
    "2020 <br>"
   ]
  }
 ],
 "metadata": {
  "kernelspec": {
   "display_name": "Python 3",
   "language": "python",
   "name": "python3"
  },
  "language_info": {
   "codemirror_mode": {
    "name": "ipython",
    "version": 3
   },
   "file_extension": ".py",
   "mimetype": "text/x-python",
   "name": "python",
   "nbconvert_exporter": "python",
   "pygments_lexer": "ipython3",
   "version": "3.8.6"
  }
 },
 "nbformat": 4,
 "nbformat_minor": 4
}
