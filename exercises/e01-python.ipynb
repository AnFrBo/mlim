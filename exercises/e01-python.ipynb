{
 "cells": [
  {
   "cell_type": "markdown",
   "metadata": {},
   "source": [
    "# A Short Introduction to Python(3)\n",
    "\n",
    "## So, why choose Python?\n",
    "- Python is super easy to learn, anyone can just start programming right away\n",
    "- Many machine learning projects use Python so there are lots of awesome libraries we can `import` (instead of writing our own code)\n",
    "- It's free\n",
    "\n",
    "## Python versions\n",
    "- Python2: legacy (EOL 2020), not maintained (more libraries, more applications)\n",
    "- Python3: future, actively maintained\n",
    "\n",
    "We'll use Python3.\n",
    "\n",
    "## What do I need to get started?\n",
    "\n",
    "### IDE (integrated development environment) \n",
    "\n",
    "Use IDEs to write and execute our python code, e.g.,\n",
    "\n",
    "- [PyCharm](https://www.jetbrains.com/community/education/#students)\n",
    "- [Jupyter Lab](https://jupyter.org/)\n",
    "- ... \n",
    "\n",
    "Pick your poison ;)\n",
    "\n",
    "### REPL\n",
    "\n",
    "REPL stands for \"read-evaluate-print-loop.\" An interactive language shell, a simple interactive computer programming environment that takes single user inputs, executes them, and returns the result to the user; a program written in a REPL environment is executed piecewise.\n",
    "\n",
    "Try https://repl.it/languages/python3"
   ]
  },
  {
   "cell_type": "markdown",
   "metadata": {},
   "source": [
    "<br/><br/>\n",
    "## Comments in Python\n",
    "\n",
    "To comment lines or part of lines use `#`:"
   ]
  },
  {
   "cell_type": "code",
   "execution_count": 1,
   "metadata": {},
   "outputs": [
    {
     "name": "stdout",
     "output_type": "stream",
     "text": [
      "1\n",
      "3\n"
     ]
    }
   ],
   "source": [
    "print(\"1\")\n",
    "#print(\"2\")\n",
    "print(\"3\") # some comment here...\n",
    "\n",
    "# Don't comment what you do (unless it's really complicated)\n",
    "# use comments to help the reader, e.g.,\n",
    "#  - structure your code\n",
    "#  - show why you do something the way you do"
   ]
  },
  {
   "cell_type": "markdown",
   "metadata": {},
   "source": [
    "<br/><br/>\n",
    "## A small Python \"program\""
   ]
  },
  {
   "cell_type": "code",
   "execution_count": 2,
   "metadata": {},
   "outputs": [
    {
     "name": "stdout",
     "output_type": "stream",
     "text": [
      "hello world!\n"
     ]
    }
   ],
   "source": [
    "print(\"hello world!\")"
   ]
  },
  {
   "cell_type": "code",
   "execution_count": 3,
   "metadata": {},
   "outputs": [
    {
     "name": "stdout",
     "output_type": "stream",
     "text": [
      "  ___________               \n",
      "< hello world >             \n",
      "  ===========               \n",
      "                \\           \n",
      "                 \\          \n",
      "                  \\         \n",
      "                   .--.     \n",
      "                  |o_o |    \n",
      "                  |:_/ |    \n",
      "                 //   \\ \\   \n",
      "                (|     | )  \n",
      "               /'\\_   _/`\\  \n",
      "               \\___)=(___/  \n"
     ]
    }
   ],
   "source": [
    "# code is executed line by line (order matters)\n",
    "print(\"  ___________               \")\n",
    "print(\"< hello world >             \")\n",
    "print(\"  ===========               \")\n",
    "print(\"                \\           \")\n",
    "print(\"                 \\          \")\n",
    "print(\"                  \\         \")     \n",
    "print(\"                   .--.     \")\n",
    "print(\"                  |o_o |    \")\n",
    "print(\"                  |:_/ |    \")\n",
    "print(\"                 //   \\ \\   \")\n",
    "print(\"                (|     | )  \")\n",
    "print(\"               /'\\_   _/`\\  \")\n",
    "print(\"               \\___)=(___/  \")"
   ]
  },
  {
   "cell_type": "code",
   "execution_count": 4,
   "metadata": {},
   "outputs": [
    {
     "name": "stdout",
     "output_type": "stream",
     "text": [
      "\n",
      "  ___________\n",
      "< hello world > \n",
      "  ===========\n",
      "                \\ \n",
      "                 \\ \n",
      "                  \\ \n",
      "                   .--. \n",
      "                  |o_o | \n",
      "                  |:_/ | \n",
      "                 //   \\ \\ \n",
      "                (|     | ) \n",
      "               /'\\_   _/`\\ \n",
      "               \\___)=(___/ \n",
      "\n"
     ]
    }
   ],
   "source": [
    "# we can input multi-line text like this:\n",
    "print(\"\"\"\n",
    "  ___________\n",
    "< hello world > \n",
    "  ===========\n",
    "                \\ \n",
    "                 \\ \n",
    "                  \\ \n",
    "                   .--. \n",
    "                  |o_o | \n",
    "                  |:_/ | \n",
    "                 //   \\ \\ \n",
    "                (|     | ) \n",
    "               /'\\_   _/`\\ \n",
    "               \\___)=(___/ \n",
    "\"\"\")"
   ]
  },
  {
   "cell_type": "markdown",
   "metadata": {},
   "source": [
    "<br/><br/>\n",
    "## Variables in Python\n",
    "\n",
    "### Creating and using a variable"
   ]
  },
  {
   "cell_type": "code",
   "execution_count": 5,
   "metadata": {},
   "outputs": [
    {
     "name": "stdout",
     "output_type": "stream",
     "text": [
      "Today, Sebastian visited a 90 minutes Python class.\n",
      "Before the class Sebastian didn't now much about Python.\n",
      "After only studying Python for 90 minutes Sebastian can write his own Python programs.\n"
     ]
    }
   ],
   "source": [
    "# we can define variables and use them in our code\n",
    "student_name = \"Sebastian\"\n",
    "class_duration = \"90\"\n",
    "\n",
    "print(\"Today, \" + student_name + \" visited a \" + class_duration + \" minutes Python class.\")\n",
    "print(\"Before the class \" + student_name + \" didn't now much about Python.\")\n",
    "print(\"After only studying Python for \" + class_duration + \" minutes \" + student_name + \" can write his own Python programs.\")"
   ]
  },
  {
   "cell_type": "code",
   "execution_count": 6,
   "metadata": {},
   "outputs": [
    {
     "name": "stdout",
     "output_type": "stream",
     "text": [
      "Today, Daniel visited a 45 minutes Python class.\n",
      "Before the class Daniel didn't now much about Python.\n",
      "After only studying Python for 45 minutes Daniel can write his own Python programs.\n"
     ]
    }
   ],
   "source": [
    "# changing variables will change the the text\n",
    "student_name = \"Daniel\"\n",
    "class_duration = \"45\"\n",
    "\n",
    "print(\"Today, \" + student_name + \" visited a \" + class_duration + \" minutes Python class.\")\n",
    "print(\"Before the class \" + student_name + \" didn't now much about Python.\")\n",
    "print(\"After only studying Python for \" + class_duration + \" minutes \" + student_name + \" can write his own Python programs.\")"
   ]
  },
  {
   "cell_type": "markdown",
   "metadata": {},
   "source": [
    "### Variable types"
   ]
  },
  {
   "cell_type": "code",
   "execution_count": 7,
   "metadata": {},
   "outputs": [],
   "source": [
    "student_name = \"Sebastian\"     # string\n",
    "class_duration = 90            # integer (whole numbers)\n",
    "class_duration_2 = 90.123123   # float (decimal numbers)\n",
    "is_male = True                 # boolean"
   ]
  },
  {
   "cell_type": "code",
   "execution_count": 8,
   "metadata": {},
   "outputs": [
    {
     "data": {
      "text/plain": [
       "str"
      ]
     },
     "execution_count": 8,
     "metadata": {},
     "output_type": "execute_result"
    }
   ],
   "source": [
    "type(student_name)"
   ]
  },
  {
   "cell_type": "code",
   "execution_count": 9,
   "metadata": {},
   "outputs": [
    {
     "data": {
      "text/plain": [
       "int"
      ]
     },
     "execution_count": 9,
     "metadata": {},
     "output_type": "execute_result"
    }
   ],
   "source": [
    "type(class_duration)"
   ]
  },
  {
   "cell_type": "code",
   "execution_count": 10,
   "metadata": {},
   "outputs": [
    {
     "data": {
      "text/plain": [
       "float"
      ]
     },
     "execution_count": 10,
     "metadata": {},
     "output_type": "execute_result"
    }
   ],
   "source": [
    "type(class_duration_2)"
   ]
  },
  {
   "cell_type": "code",
   "execution_count": 11,
   "metadata": {},
   "outputs": [
    {
     "data": {
      "text/plain": [
       "bool"
      ]
     },
     "execution_count": 11,
     "metadata": {},
     "output_type": "execute_result"
    }
   ],
   "source": [
    "type(is_male)"
   ]
  },
  {
   "cell_type": "markdown",
   "metadata": {},
   "source": [
    "#### Background: Differentiating languages by how they deal with types\n",
    "\n",
    "<center><img src=../img/weak-strong-static-dynamic.png width=\"700\"></center>\n",
    "\n",
    "A _strongly-typed_ language is one in which variables are bound to specific data types, and will result in type errors if types do not match up as expected in the expression — regardless of when type checking occurs.\n",
    "\n",
    "Type checking may occur either at compile-time (_static_ check) or at run-time (_dynamic_ check).\n",
    "\n",
    "##### Dynamic vs. static\n",
    "\n",
    "Python (dynamic)\n",
    "```\n",
    "data = 10;\n",
    "data = “Hello World!”; // no error caused\n",
    "```\n",
    "\n",
    "##### Strong vs. weak\n",
    "\n",
    "Python (strong)\n",
    "```\n",
    "temp = “Hello World!”\n",
    "temp = temp + 10; // program terminates with below stated error\n",
    "```\n",
    "\n",
    "[(Source)](https://android.jlelse.eu/magic-lies-here-statically-typed-vs-dynamically-typed-languages-d151c7f95e2b)"
   ]
  },
  {
   "cell_type": "markdown",
   "metadata": {},
   "source": [
    "#### So let's look at a few cases where types cause errors\n",
    "\n",
    "`+` only works for two numbers (`int` or `float`) or two strings:"
   ]
  },
  {
   "cell_type": "code",
   "execution_count": 12,
   "metadata": {},
   "outputs": [
    {
     "data": {
      "text/plain": [
       "'10012'"
      ]
     },
     "execution_count": 12,
     "metadata": {},
     "output_type": "execute_result"
    }
   ],
   "source": [
    "'100' + '12' # no error"
   ]
  },
  {
   "cell_type": "code",
   "execution_count": 13,
   "metadata": {},
   "outputs": [
    {
     "data": {
      "text/plain": [
       "112"
      ]
     },
     "execution_count": 13,
     "metadata": {},
     "output_type": "execute_result"
    }
   ],
   "source": [
    "100 + 12 # no error"
   ]
  },
  {
   "cell_type": "code",
   "execution_count": 14,
   "metadata": {},
   "outputs": [
    {
     "data": {
      "text/plain": [
       "112.0"
      ]
     },
     "execution_count": 14,
     "metadata": {},
     "output_type": "execute_result"
    }
   ],
   "source": [
    "100 + 12.0 # no error"
   ]
  },
  {
   "cell_type": "code",
   "execution_count": 15,
   "metadata": {},
   "outputs": [
    {
     "ename": "TypeError",
     "evalue": "unsupported operand type(s) for +: 'int' and 'str'",
     "output_type": "error",
     "traceback": [
      "\u001b[0;31m---------------------------------------------------------------------------\u001b[0m",
      "\u001b[0;31mTypeError\u001b[0m                                 Traceback (most recent call last)",
      "\u001b[0;32m<ipython-input-15-0757bedcb843>\u001b[0m in \u001b[0;36m<module>\u001b[0;34m\u001b[0m\n\u001b[1;32m      1\u001b[0m \u001b[0;31m# this cell is supposed to throw an error\u001b[0m\u001b[0;34m\u001b[0m\u001b[0;34m\u001b[0m\u001b[0;34m\u001b[0m\u001b[0m\n\u001b[0;32m----> 2\u001b[0;31m \u001b[0;36m100\u001b[0m \u001b[0;34m+\u001b[0m \u001b[0;34m'12'\u001b[0m \u001b[0;31m# error\u001b[0m\u001b[0;34m\u001b[0m\u001b[0;34m\u001b[0m\u001b[0m\n\u001b[0m",
      "\u001b[0;31mTypeError\u001b[0m: unsupported operand type(s) for +: 'int' and 'str'"
     ]
    }
   ],
   "source": [
    "# this cell is supposed to throw an error\n",
    "100 + '12' # error"
   ]
  },
  {
   "cell_type": "markdown",
   "metadata": {},
   "source": [
    "#### We can change variable types"
   ]
  },
  {
   "cell_type": "code",
   "execution_count": 16,
   "metadata": {},
   "outputs": [
    {
     "data": {
      "text/plain": [
       "112"
      ]
     },
     "execution_count": 16,
     "metadata": {},
     "output_type": "execute_result"
    }
   ],
   "source": [
    "100 + int('12')"
   ]
  },
  {
   "cell_type": "code",
   "execution_count": 17,
   "metadata": {},
   "outputs": [
    {
     "data": {
      "text/plain": [
       "str"
      ]
     },
     "execution_count": 17,
     "metadata": {},
     "output_type": "execute_result"
    }
   ],
   "source": [
    "type('12')"
   ]
  },
  {
   "cell_type": "code",
   "execution_count": 18,
   "metadata": {},
   "outputs": [
    {
     "data": {
      "text/plain": [
       "int"
      ]
     },
     "execution_count": 18,
     "metadata": {},
     "output_type": "execute_result"
    }
   ],
   "source": [
    "type(int('12'))"
   ]
  },
  {
   "cell_type": "markdown",
   "metadata": {},
   "source": [
    "<br/><br/>\n",
    "## Strings"
   ]
  },
  {
   "cell_type": "markdown",
   "metadata": {},
   "source": [
    "### New line with `\\n`"
   ]
  },
  {
   "cell_type": "code",
   "execution_count": 19,
   "metadata": {},
   "outputs": [
    {
     "name": "stdout",
     "output_type": "stream",
     "text": [
      "Machine Learning in Marketing:\n",
      "Theory and Applications\n"
     ]
    }
   ],
   "source": [
    "print(\"Machine Learning in Marketing:\\nTheory and Applications\")"
   ]
  },
  {
   "cell_type": "markdown",
   "metadata": {},
   "source": [
    "### Escaping characters with `\\`\n",
    "\n",
    "use `\\` to interpret the next string literally"
   ]
  },
  {
   "cell_type": "code",
   "execution_count": 20,
   "metadata": {},
   "outputs": [
    {
     "name": "stdout",
     "output_type": "stream",
     "text": [
      "\"Machine Learning in Marketing: Theory and Applications\"\n"
     ]
    }
   ],
   "source": [
    "print(\"\\\"Machine Learning in Marketing: Theory and Applications\\\"\")"
   ]
  },
  {
   "cell_type": "markdown",
   "metadata": {},
   "source": [
    "### Concatenate strings"
   ]
  },
  {
   "cell_type": "code",
   "execution_count": 21,
   "metadata": {},
   "outputs": [],
   "source": [
    "# we used this before\n",
    "my_course = \"\\\"Machine Learning in Marketing: Theory and Applications\\\"\""
   ]
  },
  {
   "cell_type": "code",
   "execution_count": 22,
   "metadata": {},
   "outputs": [
    {
     "name": "stdout",
     "output_type": "stream",
     "text": [
      "\"Machine Learning in Marketing: Theory and Applications\" is my favourite course\n"
     ]
    }
   ],
   "source": [
    "print(my_course + \" is my favourite course\")"
   ]
  },
  {
   "cell_type": "markdown",
   "metadata": {},
   "source": [
    "### String functions"
   ]
  },
  {
   "cell_type": "code",
   "execution_count": 23,
   "metadata": {},
   "outputs": [],
   "source": [
    "my_course = \"Machine Learning in Marketing: Theory and Applications\""
   ]
  },
  {
   "cell_type": "code",
   "execution_count": 24,
   "metadata": {},
   "outputs": [
    {
     "data": {
      "text/plain": [
       "'machine learning in marketing: theory and applications'"
      ]
     },
     "execution_count": 24,
     "metadata": {},
     "output_type": "execute_result"
    }
   ],
   "source": [
    "# all letters as lower case\n",
    "my_course.lower()"
   ]
  },
  {
   "cell_type": "code",
   "execution_count": 25,
   "metadata": {},
   "outputs": [
    {
     "data": {
      "text/plain": [
       "(False, True)"
      ]
     },
     "execution_count": 25,
     "metadata": {},
     "output_type": "execute_result"
    }
   ],
   "source": [
    "my_course.islower(), my_course.lower().islower()"
   ]
  },
  {
   "cell_type": "code",
   "execution_count": 26,
   "metadata": {},
   "outputs": [
    {
     "data": {
      "text/plain": [
       "'Machine Learning In Marketing: Theory And Applications'"
      ]
     },
     "execution_count": 26,
     "metadata": {},
     "output_type": "execute_result"
    }
   ],
   "source": [
    "# upper case for first letter in word\n",
    "my_course.lower().title()"
   ]
  },
  {
   "cell_type": "code",
   "execution_count": 27,
   "metadata": {},
   "outputs": [
    {
     "data": {
      "text/plain": [
       "54"
      ]
     },
     "execution_count": 27,
     "metadata": {},
     "output_type": "execute_result"
    }
   ],
   "source": [
    "# count number of characters\n",
    "len(my_course)"
   ]
  },
  {
   "cell_type": "code",
   "execution_count": 28,
   "metadata": {},
   "outputs": [
    {
     "data": {
      "text/plain": [
       "['Machine Learning in Marketing', 'Theory and Applications']"
      ]
     },
     "execution_count": 28,
     "metadata": {},
     "output_type": "execute_result"
    }
   ],
   "source": [
    "# split string using a specified delimiter\n",
    "my_course.split(\": \")"
   ]
  },
  {
   "cell_type": "code",
   "execution_count": 29,
   "metadata": {},
   "outputs": [
    {
     "data": {
      "text/plain": [
       "['word1', 'word2', 'word3_word4']"
      ]
     },
     "execution_count": 29,
     "metadata": {},
     "output_type": "execute_result"
    }
   ],
   "source": [
    "# any occurrence of the delimiter will result in a split\n",
    "\"word1 word2 word3_word4\".split(\" \")"
   ]
  },
  {
   "cell_type": "code",
   "execution_count": 30,
   "metadata": {},
   "outputs": [
    {
     "data": {
      "text/plain": [
       "'hi'"
      ]
     },
     "execution_count": 30,
     "metadata": {},
     "output_type": "execute_result"
    }
   ],
   "source": [
    "#\"Machine Learning in Marketing: Theory and Applications\"\n",
    "#-012345679 ...\n",
    "my_course[3:5]"
   ]
  },
  {
   "cell_type": "code",
   "execution_count": 31,
   "metadata": {},
   "outputs": [
    {
     "data": {
      "text/plain": [
       "4"
      ]
     },
     "execution_count": 31,
     "metadata": {},
     "output_type": "execute_result"
    }
   ],
   "source": [
    "# find first occurrence\n",
    "my_course.index(\"in\")"
   ]
  },
  {
   "cell_type": "code",
   "execution_count": 32,
   "metadata": {},
   "outputs": [
    {
     "ename": "ValueError",
     "evalue": "substring not found",
     "output_type": "error",
     "traceback": [
      "\u001b[0;31m---------------------------------------------------------------------------\u001b[0m",
      "\u001b[0;31mValueError\u001b[0m                                Traceback (most recent call last)",
      "\u001b[0;32m<ipython-input-32-a39e58e7aef7>\u001b[0m in \u001b[0;36m<module>\u001b[0;34m\u001b[0m\n\u001b[1;32m      1\u001b[0m \u001b[0;31m# this cell is supposed to throw an error\u001b[0m\u001b[0;34m\u001b[0m\u001b[0;34m\u001b[0m\u001b[0;34m\u001b[0m\u001b[0m\n\u001b[0;32m----> 2\u001b[0;31m \u001b[0mmy_course\u001b[0m\u001b[0;34m.\u001b[0m\u001b[0mindex\u001b[0m\u001b[0;34m(\u001b[0m\u001b[0;34m\"asdfdf\"\u001b[0m\u001b[0;34m)\u001b[0m \u001b[0;31m# find first occurrence\u001b[0m\u001b[0;34m\u001b[0m\u001b[0;34m\u001b[0m\u001b[0m\n\u001b[0m",
      "\u001b[0;31mValueError\u001b[0m: substring not found"
     ]
    }
   ],
   "source": [
    "# this cell is supposed to throw an error\n",
    "my_course.index(\"asdfdf\") # find first occurrence"
   ]
  },
  {
   "cell_type": "code",
   "execution_count": 33,
   "metadata": {},
   "outputs": [
    {
     "data": {
      "text/plain": [
       "'MLiM: Theory and Applications'"
      ]
     },
     "execution_count": 33,
     "metadata": {},
     "output_type": "execute_result"
    }
   ],
   "source": [
    "my_course.replace(\"Machine Learning in Marketing\", \"MLiM\")"
   ]
  },
  {
   "cell_type": "markdown",
   "metadata": {},
   "source": [
    "### f-strings (are awesome!)"
   ]
  },
  {
   "cell_type": "code",
   "execution_count": 34,
   "metadata": {},
   "outputs": [],
   "source": [
    "name = \"Sebastian\"\n",
    "age = 36.12\n",
    "distance_to_school = 2.812312"
   ]
  },
  {
   "cell_type": "code",
   "execution_count": 35,
   "metadata": {},
   "outputs": [
    {
     "data": {
      "text/plain": [
       "\"My name is Sebastian, I'm 36.12 years old and my commute to school has a length of 2.812312km\""
      ]
     },
     "execution_count": 35,
     "metadata": {},
     "output_type": "execute_result"
    }
   ],
   "source": [
    "\"My name is \" + name + \", I'm \" + str(age) + \" years old and my commute to school has a length of \" + str(distance_to_school) + \"km\""
   ]
  },
  {
   "cell_type": "code",
   "execution_count": 36,
   "metadata": {},
   "outputs": [
    {
     "data": {
      "text/plain": [
       "\"My name is Sebastian, I'm 36 years old and my commute to school has a length of 2.81km\""
      ]
     },
     "execution_count": 36,
     "metadata": {},
     "output_type": "execute_result"
    }
   ],
   "source": [
    "f\"My name is {name}, I'm {age:.0f} years old and my commute to school has a length of {distance_to_school:.2f}km\""
   ]
  },
  {
   "cell_type": "markdown",
   "metadata": {},
   "source": [
    "<br/><br/>\n",
    "## Numbers"
   ]
  },
  {
   "cell_type": "code",
   "execution_count": 37,
   "metadata": {},
   "outputs": [
    {
     "data": {
      "text/plain": [
       "8"
      ]
     },
     "execution_count": 37,
     "metadata": {},
     "output_type": "execute_result"
    }
   ],
   "source": [
    "3 + 5"
   ]
  },
  {
   "cell_type": "code",
   "execution_count": 38,
   "metadata": {},
   "outputs": [
    {
     "data": {
      "text/plain": [
       "-1"
      ]
     },
     "execution_count": 38,
     "metadata": {},
     "output_type": "execute_result"
    }
   ],
   "source": [
    "3 - 4"
   ]
  },
  {
   "cell_type": "code",
   "execution_count": 39,
   "metadata": {},
   "outputs": [
    {
     "data": {
      "text/plain": [
       "15"
      ]
     },
     "execution_count": 39,
     "metadata": {},
     "output_type": "execute_result"
    }
   ],
   "source": [
    "3 * 5"
   ]
  },
  {
   "cell_type": "code",
   "execution_count": 40,
   "metadata": {},
   "outputs": [
    {
     "data": {
      "text/plain": [
       "0.6"
      ]
     },
     "execution_count": 40,
     "metadata": {},
     "output_type": "execute_result"
    }
   ],
   "source": [
    "3 / 5"
   ]
  },
  {
   "cell_type": "code",
   "execution_count": 41,
   "metadata": {},
   "outputs": [
    {
     "data": {
      "text/plain": [
       "3.0"
      ]
     },
     "execution_count": 41,
     "metadata": {},
     "output_type": "execute_result"
    }
   ],
   "source": [
    "(3 + 12) / 5 # parentheses"
   ]
  },
  {
   "cell_type": "code",
   "execution_count": 42,
   "metadata": {},
   "outputs": [
    {
     "data": {
      "text/plain": [
       "1"
      ]
     },
     "execution_count": 42,
     "metadata": {},
     "output_type": "execute_result"
    }
   ],
   "source": [
    "10 % 3 # modulo"
   ]
  },
  {
   "cell_type": "code",
   "execution_count": 43,
   "metadata": {},
   "outputs": [
    {
     "data": {
      "text/plain": [
       "3"
      ]
     },
     "execution_count": 43,
     "metadata": {},
     "output_type": "execute_result"
    }
   ],
   "source": [
    "10 // 3 # integer division"
   ]
  },
  {
   "cell_type": "code",
   "execution_count": 44,
   "metadata": {},
   "outputs": [
    {
     "data": {
      "text/plain": [
       "3.3333333333333335"
      ]
     },
     "execution_count": 44,
     "metadata": {},
     "output_type": "execute_result"
    }
   ],
   "source": [
    "num = 10\n",
    "denom = 3\n",
    "num / denom"
   ]
  },
  {
   "cell_type": "code",
   "execution_count": 45,
   "metadata": {},
   "outputs": [
    {
     "data": {
      "text/plain": [
       "3"
      ]
     },
     "execution_count": 45,
     "metadata": {},
     "output_type": "execute_result"
    }
   ],
   "source": [
    "abs(-3)"
   ]
  },
  {
   "cell_type": "code",
   "execution_count": 46,
   "metadata": {},
   "outputs": [
    {
     "data": {
      "text/plain": [
       "16"
      ]
     },
     "execution_count": 46,
     "metadata": {},
     "output_type": "execute_result"
    }
   ],
   "source": [
    "4 ** 2"
   ]
  },
  {
   "cell_type": "code",
   "execution_count": 47,
   "metadata": {},
   "outputs": [
    {
     "data": {
      "text/plain": [
       "16"
      ]
     },
     "execution_count": 47,
     "metadata": {},
     "output_type": "execute_result"
    }
   ],
   "source": [
    "pow(4, 2)"
   ]
  },
  {
   "cell_type": "code",
   "execution_count": 48,
   "metadata": {},
   "outputs": [
    {
     "data": {
      "text/plain": [
       "3"
      ]
     },
     "execution_count": 48,
     "metadata": {},
     "output_type": "execute_result"
    }
   ],
   "source": [
    "max(2, 1, 3)"
   ]
  },
  {
   "cell_type": "code",
   "execution_count": 49,
   "metadata": {},
   "outputs": [
    {
     "data": {
      "text/plain": [
       "1"
      ]
     },
     "execution_count": 49,
     "metadata": {},
     "output_type": "execute_result"
    }
   ],
   "source": [
    "min(2, 1, 3)"
   ]
  },
  {
   "cell_type": "code",
   "execution_count": 50,
   "metadata": {},
   "outputs": [
    {
     "data": {
      "text/plain": [
       "2"
      ]
     },
     "execution_count": 50,
     "metadata": {},
     "output_type": "execute_result"
    }
   ],
   "source": [
    "round(2.3123)"
   ]
  },
  {
   "cell_type": "code",
   "execution_count": 51,
   "metadata": {},
   "outputs": [
    {
     "data": {
      "text/plain": [
       "3"
      ]
     },
     "execution_count": 51,
     "metadata": {},
     "output_type": "execute_result"
    }
   ],
   "source": [
    "round(2.9123)"
   ]
  },
  {
   "cell_type": "markdown",
   "metadata": {},
   "source": [
    "<br/><br/>\n",
    "## User input"
   ]
  },
  {
   "cell_type": "code",
   "execution_count": 52,
   "metadata": {},
   "outputs": [
    {
     "name": "stdin",
     "output_type": "stream",
     "text": [
      "Please enter a number 1\n",
      "Please enter another number 1\n"
     ]
    },
    {
     "name": "stdout",
     "output_type": "stream",
     "text": [
      "11\n"
     ]
    }
   ],
   "source": [
    "# input treated as strings\n",
    "num1 = input(\"Please enter a number\")\n",
    "num2 = input(\"Please enter another number\")\n",
    "print(num1 + num2)"
   ]
  },
  {
   "cell_type": "code",
   "execution_count": 53,
   "metadata": {},
   "outputs": [
    {
     "name": "stdin",
     "output_type": "stream",
     "text": [
      "Please enter a number 1\n",
      "Please enter another number 1\n"
     ]
    },
    {
     "name": "stdout",
     "output_type": "stream",
     "text": [
      "2\n"
     ]
    }
   ],
   "source": [
    "num1 = input(\"Please enter a number\")\n",
    "num2 = input(\"Please enter another number\")\n",
    "print(int(num1) + int(num2))"
   ]
  },
  {
   "cell_type": "code",
   "execution_count": 54,
   "metadata": {},
   "outputs": [
    {
     "name": "stdin",
     "output_type": "stream",
     "text": [
      "Please enter a number 1\n",
      "Please enter another number 1.2\n"
     ]
    },
    {
     "name": "stdout",
     "output_type": "stream",
     "text": [
      "2.2\n"
     ]
    }
   ],
   "source": [
    "# let's input a float\n",
    "num1 = input(\"Please enter a number\")\n",
    "num2 = input(\"Please enter another number\")\n",
    "print(float(num1) + float(num2))"
   ]
  },
  {
   "cell_type": "markdown",
   "metadata": {},
   "source": [
    "<br/><br/>\n",
    "## Lists, dictionaries, and tuples\n",
    "\n",
    "Different structures in Python to organize data"
   ]
  },
  {
   "cell_type": "markdown",
   "metadata": {},
   "source": [
    "### Lists\n",
    "\n",
    "#### A little bit of background\n",
    "\n",
    "<center><img src=../img/list-chart.png width=\"800\"></center>\n",
    "\n",
    "[(Source)](https://medium.com/@meghamohan/mutable-and-immutable-side-of-python-c2145cf72747)\n",
    "\n",
    "#### Things we should know about lists"
   ]
  },
  {
   "cell_type": "code",
   "execution_count": 55,
   "metadata": {},
   "outputs": [],
   "source": [
    "my_classes = [\"MLiM\", \"CACI\", \"MAFO\"]"
   ]
  },
  {
   "cell_type": "code",
   "execution_count": 56,
   "metadata": {},
   "outputs": [],
   "source": [
    "mixed_list = [\"MLiM\", True, 2] # lists can contain different variable types"
   ]
  },
  {
   "cell_type": "code",
   "execution_count": 57,
   "metadata": {},
   "outputs": [
    {
     "data": {
      "text/plain": [
       "3"
      ]
     },
     "execution_count": 57,
     "metadata": {},
     "output_type": "execute_result"
    }
   ],
   "source": [
    "len(my_classes)"
   ]
  },
  {
   "cell_type": "code",
   "execution_count": 58,
   "metadata": {},
   "outputs": [
    {
     "data": {
      "text/plain": [
       "'MLiM'"
      ]
     },
     "execution_count": 58,
     "metadata": {},
     "output_type": "execute_result"
    }
   ],
   "source": [
    "# indexing lists:\n",
    "# [\"MLiM\", \"CACI\", \"MAFO\"]\n",
    "#   0       1       2\n",
    "my_classes[0]"
   ]
  },
  {
   "cell_type": "code",
   "execution_count": 59,
   "metadata": {},
   "outputs": [
    {
     "data": {
      "text/plain": [
       "'MAFO'"
      ]
     },
     "execution_count": 59,
     "metadata": {},
     "output_type": "execute_result"
    }
   ],
   "source": [
    "my_classes[-1] # `-` -> index from end"
   ]
  },
  {
   "cell_type": "code",
   "execution_count": 60,
   "metadata": {},
   "outputs": [
    {
     "data": {
      "text/plain": [
       "['MLiM', 'CACI']"
      ]
     },
     "execution_count": 60,
     "metadata": {},
     "output_type": "execute_result"
    }
   ],
   "source": [
    "my_classes[0:2] # `:` range index"
   ]
  },
  {
   "cell_type": "code",
   "execution_count": 61,
   "metadata": {},
   "outputs": [
    {
     "data": {
      "text/plain": [
       "['MLiM', 'CACI']"
      ]
     },
     "execution_count": 61,
     "metadata": {},
     "output_type": "execute_result"
    }
   ],
   "source": [
    "my_classes[:2] # number before (or after) `:` is optional, if not provided read from (to) beginning (end)"
   ]
  },
  {
   "cell_type": "code",
   "execution_count": 62,
   "metadata": {},
   "outputs": [
    {
     "data": {
      "text/plain": [
       "['MLiM', 'CACI']"
      ]
     },
     "execution_count": 62,
     "metadata": {},
     "output_type": "execute_result"
    }
   ],
   "source": [
    "my_classes[:-1]"
   ]
  },
  {
   "cell_type": "code",
   "execution_count": 63,
   "metadata": {},
   "outputs": [
    {
     "data": {
      "text/plain": [
       "['CACI', 'MAFO']"
      ]
     },
     "execution_count": 63,
     "metadata": {},
     "output_type": "execute_result"
    }
   ],
   "source": [
    "my_classes[-2:]"
   ]
  },
  {
   "cell_type": "code",
   "execution_count": 64,
   "metadata": {},
   "outputs": [
    {
     "data": {
      "text/plain": [
       "['MLiM', 'New Class', 'MAFO']"
      ]
     },
     "execution_count": 64,
     "metadata": {},
     "output_type": "execute_result"
    }
   ],
   "source": [
    "my_classes[1] = \"New Class\" # lists are mutable\n",
    "my_classes"
   ]
  },
  {
   "cell_type": "code",
   "execution_count": 65,
   "metadata": {},
   "outputs": [],
   "source": [
    "my_classes = [\"MLiM\", \"CACI\", \"MAFO\"]\n",
    "my_grades = [1.0, 2.0, 1.7]"
   ]
  },
  {
   "cell_type": "code",
   "execution_count": 66,
   "metadata": {},
   "outputs": [
    {
     "name": "stdout",
     "output_type": "stream",
     "text": [
      "['MLiM', 'CACI', 'MAFO', 'Another class']\n"
     ]
    }
   ],
   "source": [
    "my_classes.extend([\"Another class\"])\n",
    "print(my_classes)"
   ]
  },
  {
   "cell_type": "code",
   "execution_count": 67,
   "metadata": {},
   "outputs": [
    {
     "name": "stdout",
     "output_type": "stream",
     "text": [
      "['MLiM', 'CACI', 'MAFO', 'Another class', 'Yet another class']\n"
     ]
    }
   ],
   "source": [
    "my_classes.append(\"Yet another class\")\n",
    "print(my_classes)"
   ]
  },
  {
   "cell_type": "code",
   "execution_count": 68,
   "metadata": {},
   "outputs": [
    {
     "name": "stdout",
     "output_type": "stream",
     "text": [
      "['MLiM', 'CACI', 'And one more class', 'MAFO', 'Another class', 'Yet another class']\n"
     ]
    }
   ],
   "source": [
    "my_classes.insert(2, \"And one more class\")\n",
    "print(my_classes)"
   ]
  },
  {
   "cell_type": "code",
   "execution_count": 69,
   "metadata": {},
   "outputs": [
    {
     "name": "stdout",
     "output_type": "stream",
     "text": [
      "['MLiM', 'And one more class', 'MAFO', 'Another class', 'Yet another class']\n"
     ]
    }
   ],
   "source": [
    "my_classes.remove(\"CACI\")\n",
    "print(my_classes)"
   ]
  },
  {
   "cell_type": "code",
   "execution_count": 70,
   "metadata": {},
   "outputs": [
    {
     "data": {
      "text/plain": [
       "['MLiM', 'And one more class', 'MAFO', 'Another class']"
      ]
     },
     "execution_count": 70,
     "metadata": {},
     "output_type": "execute_result"
    }
   ],
   "source": [
    "popped_class = my_classes.pop()\n",
    "my_classes"
   ]
  },
  {
   "cell_type": "code",
   "execution_count": 71,
   "metadata": {},
   "outputs": [
    {
     "data": {
      "text/plain": [
       "0"
      ]
     },
     "execution_count": 71,
     "metadata": {},
     "output_type": "execute_result"
    }
   ],
   "source": [
    "my_classes.index(\"MLiM\")"
   ]
  },
  {
   "cell_type": "code",
   "execution_count": 72,
   "metadata": {},
   "outputs": [
    {
     "data": {
      "text/plain": [
       "1"
      ]
     },
     "execution_count": 72,
     "metadata": {},
     "output_type": "execute_result"
    }
   ],
   "source": [
    "my_classes.count(\"MLiM\")"
   ]
  },
  {
   "cell_type": "code",
   "execution_count": 73,
   "metadata": {},
   "outputs": [
    {
     "data": {
      "text/plain": [
       "['Another class', 'MAFO', 'And one more class', 'MLiM']"
      ]
     },
     "execution_count": 73,
     "metadata": {},
     "output_type": "execute_result"
    }
   ],
   "source": [
    "my_classes.reverse()\n",
    "my_classes"
   ]
  },
  {
   "cell_type": "code",
   "execution_count": 74,
   "metadata": {},
   "outputs": [],
   "source": [
    "my_classes_2 = my_classes.copy()"
   ]
  },
  {
   "cell_type": "code",
   "execution_count": 75,
   "metadata": {},
   "outputs": [
    {
     "data": {
      "text/plain": [
       "['And one more class', 'Another class', 'MAFO', 'MLiM']"
      ]
     },
     "execution_count": 75,
     "metadata": {},
     "output_type": "execute_result"
    }
   ],
   "source": [
    "my_classes.sort()\n",
    "my_classes"
   ]
  },
  {
   "cell_type": "code",
   "execution_count": 76,
   "metadata": {},
   "outputs": [
    {
     "data": {
      "text/plain": [
       "['Another class', 'MAFO', 'And one more class', 'MLiM']"
      ]
     },
     "execution_count": 76,
     "metadata": {},
     "output_type": "execute_result"
    }
   ],
   "source": [
    "my_classes_2"
   ]
  },
  {
   "cell_type": "markdown",
   "metadata": {},
   "source": [
    "### Dictionaries\n",
    "\n",
    "Think of dictionaries as a series of key-value pairs:\n",
    "<center><img src=../img/dict.png width=\"400\"></center>\n",
    "\n",
    "This will be very useful for configurations."
   ]
  },
  {
   "cell_type": "code",
   "execution_count": 77,
   "metadata": {},
   "outputs": [],
   "source": [
    "# day_name, day_of_the_week\n",
    "day_map = {\n",
    "    \"Monday\": 1,\n",
    "    \"Tuesday\": 2,\n",
    "    \"Wednesday\": 3,\n",
    "    \"Thursday\": 4,\n",
    "    \"Friday\": 5,\n",
    "    \"Saturday\": 6,\n",
    "    \"Sunday\": 7,\n",
    "}"
   ]
  },
  {
   "cell_type": "code",
   "execution_count": 78,
   "metadata": {},
   "outputs": [
    {
     "data": {
      "text/plain": [
       "(7, 7)"
      ]
     },
     "execution_count": 78,
     "metadata": {},
     "output_type": "execute_result"
    }
   ],
   "source": [
    "# access value by key\n",
    "day_map[\"Sunday\"], day_map.get(\"Sunday\")"
   ]
  },
  {
   "cell_type": "code",
   "execution_count": 79,
   "metadata": {},
   "outputs": [
    {
     "ename": "KeyError",
     "evalue": "'January'",
     "output_type": "error",
     "traceback": [
      "\u001b[0;31m---------------------------------------------------------------------------\u001b[0m",
      "\u001b[0;31mKeyError\u001b[0m                                  Traceback (most recent call last)",
      "\u001b[0;32m<ipython-input-79-45bb32ca05ca>\u001b[0m in \u001b[0;36m<module>\u001b[0;34m\u001b[0m\n\u001b[1;32m      1\u001b[0m \u001b[0;31m# this cell is supposed to throw an error\u001b[0m\u001b[0;34m\u001b[0m\u001b[0;34m\u001b[0m\u001b[0;34m\u001b[0m\u001b[0m\n\u001b[0;32m----> 2\u001b[0;31m \u001b[0mday_map\u001b[0m\u001b[0;34m[\u001b[0m\u001b[0;34m\"January\"\u001b[0m\u001b[0;34m]\u001b[0m\u001b[0;34m\u001b[0m\u001b[0;34m\u001b[0m\u001b[0m\n\u001b[0m",
      "\u001b[0;31mKeyError\u001b[0m: 'January'"
     ]
    }
   ],
   "source": [
    "# this cell is supposed to throw an error\n",
    "day_map[\"January\"]"
   ]
  },
  {
   "cell_type": "code",
   "execution_count": 80,
   "metadata": {},
   "outputs": [
    {
     "data": {
      "text/plain": [
       "'N/A'"
      ]
     },
     "execution_count": 80,
     "metadata": {},
     "output_type": "execute_result"
    }
   ],
   "source": [
    "# default value\n",
    "day_map.get(\"January\", \"N/A\")"
   ]
  },
  {
   "cell_type": "code",
   "execution_count": 81,
   "metadata": {},
   "outputs": [
    {
     "data": {
      "text/plain": [
       "2"
      ]
     },
     "execution_count": 81,
     "metadata": {},
     "output_type": "execute_result"
    }
   ],
   "source": [
    "# keys should be unique, otherwise one of the values will not be accessible\n",
    "day_map = {\n",
    "    \"Monday\": 1,\n",
    "    \"Monday\": 2,\n",
    "}\n",
    "day_map[\"Monday\"]"
   ]
  },
  {
   "cell_type": "code",
   "execution_count": 82,
   "metadata": {},
   "outputs": [
    {
     "ename": "KeyError",
     "evalue": "0",
     "output_type": "error",
     "traceback": [
      "\u001b[0;31m---------------------------------------------------------------------------\u001b[0m",
      "\u001b[0;31mKeyError\u001b[0m                                  Traceback (most recent call last)",
      "\u001b[0;32m<ipython-input-82-5d7844a76833>\u001b[0m in \u001b[0;36m<module>\u001b[0;34m\u001b[0m\n\u001b[1;32m      1\u001b[0m \u001b[0;31m# this cell is supposed to throw an error\u001b[0m\u001b[0;34m\u001b[0m\u001b[0;34m\u001b[0m\u001b[0;34m\u001b[0m\u001b[0m\n\u001b[0;32m----> 2\u001b[0;31m \u001b[0mday_map\u001b[0m\u001b[0;34m[\u001b[0m\u001b[0;36m0\u001b[0m\u001b[0;34m]\u001b[0m \u001b[0;31m# why does this throw an error?\u001b[0m\u001b[0;34m\u001b[0m\u001b[0;34m\u001b[0m\u001b[0m\n\u001b[0m",
      "\u001b[0;31mKeyError\u001b[0m: 0"
     ]
    }
   ],
   "source": [
    "# this cell is supposed to throw an error\n",
    "day_map[0] # why does this throw an error?"
   ]
  },
  {
   "cell_type": "markdown",
   "metadata": {},
   "source": [
    "### Tuples\n",
    "\n",
    "Use for data that are not changed or mutated"
   ]
  },
  {
   "cell_type": "code",
   "execution_count": 83,
   "metadata": {},
   "outputs": [],
   "source": [
    "coordinates = (4, 5) # a good example for data that are not changed"
   ]
  },
  {
   "cell_type": "code",
   "execution_count": 84,
   "metadata": {},
   "outputs": [
    {
     "ename": "TypeError",
     "evalue": "'tuple' object does not support item assignment",
     "output_type": "error",
     "traceback": [
      "\u001b[0;31m---------------------------------------------------------------------------\u001b[0m",
      "\u001b[0;31mTypeError\u001b[0m                                 Traceback (most recent call last)",
      "\u001b[0;32m<ipython-input-84-54486dd2e1ac>\u001b[0m in \u001b[0;36m<module>\u001b[0;34m\u001b[0m\n\u001b[1;32m      1\u001b[0m \u001b[0;31m# this cell is supposed to throw an error\u001b[0m\u001b[0;34m\u001b[0m\u001b[0;34m\u001b[0m\u001b[0;34m\u001b[0m\u001b[0m\n\u001b[0;32m----> 2\u001b[0;31m \u001b[0mcoordinates\u001b[0m\u001b[0;34m[\u001b[0m\u001b[0;36m0\u001b[0m\u001b[0;34m]\u001b[0m \u001b[0;34m=\u001b[0m \u001b[0;36m1\u001b[0m   \u001b[0;31m# immutable -> error\u001b[0m\u001b[0;34m\u001b[0m\u001b[0;34m\u001b[0m\u001b[0m\n\u001b[0m",
      "\u001b[0;31mTypeError\u001b[0m: 'tuple' object does not support item assignment"
     ]
    }
   ],
   "source": [
    "# this cell is supposed to throw an error\n",
    "coordinates[0] = 1   # immutable -> error"
   ]
  },
  {
   "cell_type": "code",
   "execution_count": 85,
   "metadata": {},
   "outputs": [],
   "source": [
    "x1 = coordinates[0]\n",
    "y1 = coordinates[1]"
   ]
  },
  {
   "cell_type": "code",
   "execution_count": 86,
   "metadata": {},
   "outputs": [],
   "source": [
    "x2, y2 = coordinates # unpacking"
   ]
  },
  {
   "cell_type": "code",
   "execution_count": 87,
   "metadata": {},
   "outputs": [
    {
     "ename": "ValueError",
     "evalue": "not enough values to unpack (expected 3, got 2)",
     "output_type": "error",
     "traceback": [
      "\u001b[0;31m---------------------------------------------------------------------------\u001b[0m",
      "\u001b[0;31mValueError\u001b[0m                                Traceback (most recent call last)",
      "\u001b[0;32m<ipython-input-87-af8d81468fd3>\u001b[0m in \u001b[0;36m<module>\u001b[0;34m\u001b[0m\n\u001b[1;32m      1\u001b[0m \u001b[0;31m# this cell is supposed to throw an error\u001b[0m\u001b[0;34m\u001b[0m\u001b[0;34m\u001b[0m\u001b[0;34m\u001b[0m\u001b[0m\n\u001b[0;32m----> 2\u001b[0;31m \u001b[0mx2\u001b[0m\u001b[0;34m,\u001b[0m \u001b[0my2\u001b[0m\u001b[0;34m,\u001b[0m \u001b[0mz3\u001b[0m \u001b[0;34m=\u001b[0m \u001b[0mcoordinates\u001b[0m \u001b[0;31m# error, `len(coordinates) = 2`\u001b[0m\u001b[0;34m\u001b[0m\u001b[0;34m\u001b[0m\u001b[0m\n\u001b[0m",
      "\u001b[0;31mValueError\u001b[0m: not enough values to unpack (expected 3, got 2)"
     ]
    }
   ],
   "source": [
    "# this cell is supposed to throw an error\n",
    "x2, y2, z3 = coordinates # error, `len(coordinates) = 2`"
   ]
  },
  {
   "cell_type": "code",
   "execution_count": 88,
   "metadata": {},
   "outputs": [],
   "source": [
    "assert x1==x2 and y1==y2"
   ]
  },
  {
   "cell_type": "markdown",
   "metadata": {},
   "source": [
    "<br/><br/>\n",
    "## Modules\n",
    "\n",
    "### Some background\n",
    "<center><img src=../img/libs.png width=\"700\"></center>\n",
    "\n",
    "[(Source)](http://swcarpentry.github.io/training-course/2012/09/week-1-python-libraries/)\n",
    "\n",
    "### One example: `math`\n",
    "\n",
    "Modules conbtain functions and variables:\n",
    "\n",
    "<center><img src=../img/import.png width=\"400\"></center>"
   ]
  },
  {
   "cell_type": "code",
   "execution_count": 89,
   "metadata": {},
   "outputs": [],
   "source": [
    "import math"
   ]
  },
  {
   "cell_type": "code",
   "execution_count": 90,
   "metadata": {},
   "outputs": [
    {
     "data": {
      "text/plain": [
       "3.141592653589793"
      ]
     },
     "execution_count": 90,
     "metadata": {},
     "output_type": "execute_result"
    }
   ],
   "source": [
    "math.pi"
   ]
  },
  {
   "cell_type": "code",
   "execution_count": 91,
   "metadata": {},
   "outputs": [
    {
     "data": {
      "text/plain": [
       "2"
      ]
     },
     "execution_count": 91,
     "metadata": {},
     "output_type": "execute_result"
    }
   ],
   "source": [
    "math.floor(2.9123)"
   ]
  },
  {
   "cell_type": "code",
   "execution_count": 92,
   "metadata": {},
   "outputs": [
    {
     "data": {
      "text/plain": [
       "3"
      ]
     },
     "execution_count": 92,
     "metadata": {},
     "output_type": "execute_result"
    }
   ],
   "source": [
    "math.ceil(2.3123)"
   ]
  },
  {
   "cell_type": "code",
   "execution_count": 93,
   "metadata": {},
   "outputs": [
    {
     "data": {
      "text/plain": [
       "3.0"
      ]
     },
     "execution_count": 93,
     "metadata": {},
     "output_type": "execute_result"
    }
   ],
   "source": [
    "math.sqrt(9)"
   ]
  },
  {
   "cell_type": "markdown",
   "metadata": {},
   "source": [
    "<br/><br/>\n",
    "## Functions\n",
    "\n",
    "<center><img src=../img/function.png width=\"500\"></center>\n",
    "\n",
    "- `def` is a key word\n",
    "- function's body is indented with four spaces\n",
    "\n",
    "Notice how code blocks are indicated with __indentation__ (instead of brackets or `begin`/`end` pairs). Two code blocks at the same indentation level belong together if they are not separated by a block with a lower indentation level."
   ]
  },
  {
   "cell_type": "markdown",
   "metadata": {},
   "source": [
    "### A simple function"
   ]
  },
  {
   "cell_type": "code",
   "execution_count": 94,
   "metadata": {},
   "outputs": [],
   "source": [
    "def hello_world():\n",
    "    print(\"hello world\")"
   ]
  },
  {
   "cell_type": "code",
   "execution_count": 95,
   "metadata": {},
   "outputs": [
    {
     "name": "stdout",
     "output_type": "stream",
     "text": [
      "hello world\n"
     ]
    }
   ],
   "source": [
    "hello_world()"
   ]
  },
  {
   "cell_type": "markdown",
   "metadata": {},
   "source": [
    "#### Effect of indentation"
   ]
  },
  {
   "cell_type": "code",
   "execution_count": 96,
   "metadata": {},
   "outputs": [
    {
     "name": "stdout",
     "output_type": "stream",
     "text": [
      "function defined\n"
     ]
    }
   ],
   "source": [
    "def hello_world():\n",
    "    print(\"hello world\")\n",
    "print(\"function defined\")"
   ]
  },
  {
   "cell_type": "markdown",
   "metadata": {},
   "source": [
    "#### Indent = ?\n",
    "\n",
    "Check the [Python Enhancement Proposals (PEPs)](https://www.python.org/dev/peps/) in the [Python Developer's Guide](https://www.python.org/dev/)!\n",
    "\n",
    "- [PEP 008](https://www.python.org/dev/peps/pep-0008/)\n",
    "    - Section [tabs-or-spaces](https://www.python.org/dev/peps/pep-0008/#tabs-or-spaces)\n",
    "    - Use an editor that automatically replaces tabs by spaces\n",
    "- Use [Black](https://black.readthedocs.io/en/stable) to \"fix\" your code\n"
   ]
  },
  {
   "cell_type": "markdown",
   "metadata": {},
   "source": [
    "### Arguments"
   ]
  },
  {
   "cell_type": "code",
   "execution_count": 97,
   "metadata": {},
   "outputs": [],
   "source": [
    "def print_student_id(student, id):\n",
    "    print(\"Student: \" + student + \", ID:\" + str(id))\n",
    "    return (student, id)"
   ]
  },
  {
   "cell_type": "code",
   "execution_count": 98,
   "metadata": {},
   "outputs": [
    {
     "name": "stdout",
     "output_type": "stream",
     "text": [
      "Student: Sebastian, ID:201231\n"
     ]
    },
    {
     "data": {
      "text/plain": [
       "('Sebastian', 201231)"
      ]
     },
     "execution_count": 98,
     "metadata": {},
     "output_type": "execute_result"
    }
   ],
   "source": [
    "print_student_id(\"Sebastian\", 201231)"
   ]
  },
  {
   "cell_type": "code",
   "execution_count": 99,
   "metadata": {},
   "outputs": [
    {
     "ename": "TypeError",
     "evalue": "print_student_id() missing 2 required positional arguments: 'student' and 'id'",
     "output_type": "error",
     "traceback": [
      "\u001b[0;31m---------------------------------------------------------------------------\u001b[0m",
      "\u001b[0;31mTypeError\u001b[0m                                 Traceback (most recent call last)",
      "\u001b[0;32m<ipython-input-99-c33542cfa0a8>\u001b[0m in \u001b[0;36m<module>\u001b[0;34m\u001b[0m\n\u001b[1;32m      1\u001b[0m \u001b[0;31m# this cell is supposed to throw an error\u001b[0m\u001b[0;34m\u001b[0m\u001b[0;34m\u001b[0m\u001b[0;34m\u001b[0m\u001b[0m\n\u001b[0;32m----> 2\u001b[0;31m \u001b[0mprint_student_id\u001b[0m\u001b[0;34m(\u001b[0m\u001b[0;34m)\u001b[0m \u001b[0;31m# causes error because arguments are missing (arguments are not optional)\u001b[0m\u001b[0;34m\u001b[0m\u001b[0;34m\u001b[0m\u001b[0m\n\u001b[0m",
      "\u001b[0;31mTypeError\u001b[0m: print_student_id() missing 2 required positional arguments: 'student' and 'id'"
     ]
    }
   ],
   "source": [
    "# this cell is supposed to throw an error\n",
    "print_student_id() # causes error because arguments are missing (arguments are not optional)"
   ]
  },
  {
   "cell_type": "code",
   "execution_count": 100,
   "metadata": {},
   "outputs": [
    {
     "ename": "TypeError",
     "evalue": "can only concatenate str (not \"int\") to str",
     "output_type": "error",
     "traceback": [
      "\u001b[0;31m---------------------------------------------------------------------------\u001b[0m",
      "\u001b[0;31mTypeError\u001b[0m                                 Traceback (most recent call last)",
      "\u001b[0;32m<ipython-input-100-37971dbbad57>\u001b[0m in \u001b[0;36m<module>\u001b[0;34m\u001b[0m\n\u001b[1;32m      1\u001b[0m \u001b[0;31m# this cell is supposed to throw an error\u001b[0m\u001b[0;34m\u001b[0m\u001b[0;34m\u001b[0m\u001b[0;34m\u001b[0m\u001b[0m\n\u001b[0;32m----> 2\u001b[0;31m \u001b[0mprint_student_id\u001b[0m\u001b[0;34m(\u001b[0m\u001b[0;36m201231\u001b[0m\u001b[0;34m,\u001b[0m \u001b[0;34m\"Sebastian\"\u001b[0m\u001b[0;34m)\u001b[0m \u001b[0;31m# the order of arguments matters ...\u001b[0m\u001b[0;34m\u001b[0m\u001b[0;34m\u001b[0m\u001b[0m\n\u001b[0m",
      "\u001b[0;32m<ipython-input-97-83d728e2e15e>\u001b[0m in \u001b[0;36mprint_student_id\u001b[0;34m(student, id)\u001b[0m\n\u001b[1;32m      1\u001b[0m \u001b[0;32mdef\u001b[0m \u001b[0mprint_student_id\u001b[0m\u001b[0;34m(\u001b[0m\u001b[0mstudent\u001b[0m\u001b[0;34m,\u001b[0m \u001b[0mid\u001b[0m\u001b[0;34m)\u001b[0m\u001b[0;34m:\u001b[0m\u001b[0;34m\u001b[0m\u001b[0;34m\u001b[0m\u001b[0m\n\u001b[0;32m----> 2\u001b[0;31m     \u001b[0mprint\u001b[0m\u001b[0;34m(\u001b[0m\u001b[0;34m\"Student: \"\u001b[0m \u001b[0;34m+\u001b[0m \u001b[0mstudent\u001b[0m \u001b[0;34m+\u001b[0m \u001b[0;34m\", ID:\"\u001b[0m \u001b[0;34m+\u001b[0m \u001b[0mstr\u001b[0m\u001b[0;34m(\u001b[0m\u001b[0mid\u001b[0m\u001b[0;34m)\u001b[0m\u001b[0;34m)\u001b[0m\u001b[0;34m\u001b[0m\u001b[0;34m\u001b[0m\u001b[0m\n\u001b[0m\u001b[1;32m      3\u001b[0m     \u001b[0;32mreturn\u001b[0m \u001b[0;34m(\u001b[0m\u001b[0mstudent\u001b[0m\u001b[0;34m,\u001b[0m \u001b[0mid\u001b[0m\u001b[0;34m)\u001b[0m\u001b[0;34m\u001b[0m\u001b[0;34m\u001b[0m\u001b[0m\n",
      "\u001b[0;31mTypeError\u001b[0m: can only concatenate str (not \"int\") to str"
     ]
    }
   ],
   "source": [
    "# this cell is supposed to throw an error\n",
    "print_student_id(201231, \"Sebastian\") # the order of arguments matters ..."
   ]
  },
  {
   "cell_type": "code",
   "execution_count": 101,
   "metadata": {},
   "outputs": [
    {
     "name": "stdout",
     "output_type": "stream",
     "text": [
      "Student: Sebastian, ID:201231\n"
     ]
    },
    {
     "data": {
      "text/plain": [
       "('Sebastian', 201231)"
      ]
     },
     "execution_count": 101,
     "metadata": {},
     "output_type": "execute_result"
    }
   ],
   "source": [
    "# ... unless we name arguments\n",
    "print_student_id(id=201231, student=\"Sebastian\")"
   ]
  },
  {
   "cell_type": "markdown",
   "metadata": {},
   "source": [
    "### Default arguments"
   ]
  },
  {
   "cell_type": "code",
   "execution_count": 102,
   "metadata": {},
   "outputs": [],
   "source": [
    "def print_student_id(student=\"Jane Doe\", id=0):\n",
    "    print(\"Student: \" + student + \", ID:\" + str(id))\n",
    "    return (student, id)"
   ]
  },
  {
   "cell_type": "code",
   "execution_count": 103,
   "metadata": {},
   "outputs": [
    {
     "name": "stdout",
     "output_type": "stream",
     "text": [
      "Student: Jane Doe, ID:0\n"
     ]
    },
    {
     "data": {
      "text/plain": [
       "('Jane Doe', 0)"
      ]
     },
     "execution_count": 103,
     "metadata": {},
     "output_type": "execute_result"
    }
   ],
   "source": [
    "print_student_id()"
   ]
  },
  {
   "cell_type": "markdown",
   "metadata": {},
   "source": [
    "### It's necessary to explicitly state returns"
   ]
  },
  {
   "cell_type": "code",
   "execution_count": 104,
   "metadata": {},
   "outputs": [],
   "source": [
    "def cube(x):\n",
    "    x * x * x"
   ]
  },
  {
   "cell_type": "code",
   "execution_count": 105,
   "metadata": {},
   "outputs": [
    {
     "name": "stdout",
     "output_type": "stream",
     "text": [
      "None\n"
     ]
    }
   ],
   "source": [
    "return_value = cube(3)\n",
    "print(return_value)"
   ]
  },
  {
   "cell_type": "markdown",
   "metadata": {},
   "source": [
    "### The return statements terminates function execution"
   ]
  },
  {
   "cell_type": "code",
   "execution_count": 106,
   "metadata": {},
   "outputs": [
    {
     "data": {
      "text/plain": [
       "27"
      ]
     },
     "execution_count": 106,
     "metadata": {},
     "output_type": "execute_result"
    }
   ],
   "source": [
    "def cube(x):\n",
    "    return x * x * x\n",
    "    print(\"this will not be printed\")\n",
    "cube(3)"
   ]
  },
  {
   "cell_type": "markdown",
   "metadata": {},
   "source": [
    "### Unpacking returns"
   ]
  },
  {
   "cell_type": "code",
   "execution_count": 107,
   "metadata": {},
   "outputs": [],
   "source": [
    "def identity_2d(num1, num2):\n",
    "    return num1, num2"
   ]
  },
  {
   "cell_type": "code",
   "execution_count": 108,
   "metadata": {},
   "outputs": [
    {
     "data": {
      "text/plain": [
       "(1, 2)"
      ]
     },
     "execution_count": 108,
     "metadata": {},
     "output_type": "execute_result"
    }
   ],
   "source": [
    "a = identity_2d(1, 2)\n",
    "a"
   ]
  },
  {
   "cell_type": "code",
   "execution_count": 109,
   "metadata": {},
   "outputs": [],
   "source": [
    "a, b = identity_2d(1, 2)"
   ]
  },
  {
   "cell_type": "code",
   "execution_count": 110,
   "metadata": {},
   "outputs": [
    {
     "data": {
      "text/plain": [
       "1"
      ]
     },
     "execution_count": 110,
     "metadata": {},
     "output_type": "execute_result"
    }
   ],
   "source": [
    "a"
   ]
  },
  {
   "cell_type": "code",
   "execution_count": 111,
   "metadata": {},
   "outputs": [
    {
     "data": {
      "text/plain": [
       "2"
      ]
     },
     "execution_count": 111,
     "metadata": {},
     "output_type": "execute_result"
    }
   ],
   "source": [
    "b"
   ]
  },
  {
   "cell_type": "markdown",
   "metadata": {},
   "source": [
    "<br/><br/>\n",
    "## Functional programming in Python"
   ]
  },
  {
   "cell_type": "markdown",
   "metadata": {},
   "source": [
    "### `map`\n",
    "\n",
    "Apply a function to multiple inputs\n",
    "\n",
    "```\n",
    "map(function, iterable)\n",
    "```\n",
    "\n",
    "_Note:_ Functional Python is lazy. We need to include `list()` so the function stores the output as a list, and not the definition of the iterable."
   ]
  },
  {
   "cell_type": "code",
   "execution_count": 112,
   "metadata": {},
   "outputs": [
    {
     "data": {
      "text/plain": [
       "<map at 0x10d707280>"
      ]
     },
     "execution_count": 112,
     "metadata": {},
     "output_type": "execute_result"
    }
   ],
   "source": [
    "map(math.sqrt, [1, 2, 3, 4])"
   ]
  },
  {
   "cell_type": "code",
   "execution_count": 113,
   "metadata": {},
   "outputs": [
    {
     "data": {
      "text/plain": [
       "[1.0, 1.4142135623730951, 1.7320508075688772, 2.0]"
      ]
     },
     "execution_count": 113,
     "metadata": {},
     "output_type": "execute_result"
    }
   ],
   "source": [
    "list(map(math.sqrt, [1, 2, 3, 4]))"
   ]
  },
  {
   "cell_type": "markdown",
   "metadata": {},
   "source": [
    "### `lamdba`\n",
    "\n",
    "This `lambda` expression\n",
    "```\n",
    "square_lambda = lambda x: x * x\n",
    "```\n",
    "is equivalent to\n",
    "```\n",
    "def lambda(x):\n",
    "    return x * x\n",
    "```\n",
    "\n",
    "`lambda` expressions are \"syntactic sugar\", i.e., syntax within Python that is designed to make things easier to read or to express. It makes the language \"sweeter\" for human use: things can be expressed more clearly, more concisely, or in an alternative style that some may prefer."
   ]
  },
  {
   "cell_type": "code",
   "execution_count": 114,
   "metadata": {},
   "outputs": [],
   "source": [
    "square_lambda = lambda x: x * x"
   ]
  },
  {
   "cell_type": "code",
   "execution_count": 115,
   "metadata": {},
   "outputs": [
    {
     "data": {
      "text/plain": [
       "9"
      ]
     },
     "execution_count": 115,
     "metadata": {},
     "output_type": "execute_result"
    }
   ],
   "source": [
    "square_lambda(3)"
   ]
  },
  {
   "cell_type": "code",
   "execution_count": 116,
   "metadata": {},
   "outputs": [
    {
     "data": {
      "text/plain": [
       "[1, 4, 9, 16, 25]"
      ]
     },
     "execution_count": 116,
     "metadata": {},
     "output_type": "execute_result"
    }
   ],
   "source": [
    "x = [1, 2, 3, 4, 5]\n",
    "list(map(lambda num: num * num, x))"
   ]
  },
  {
   "cell_type": "markdown",
   "metadata": {},
   "source": [
    "### `reduce`"
   ]
  },
  {
   "cell_type": "code",
   "execution_count": 117,
   "metadata": {},
   "outputs": [],
   "source": [
    "import functools"
   ]
  },
  {
   "cell_type": "code",
   "execution_count": 118,
   "metadata": {},
   "outputs": [
    {
     "data": {
      "text/plain": [
       "120"
      ]
     },
     "execution_count": 118,
     "metadata": {},
     "output_type": "execute_result"
    }
   ],
   "source": [
    "functools.reduce(\n",
    "    (lambda x, y: x * y),\n",
    "    [1, 2, 3, 4, 5]\n",
    ")"
   ]
  },
  {
   "cell_type": "markdown",
   "metadata": {},
   "source": [
    "### `partial`"
   ]
  },
  {
   "cell_type": "code",
   "execution_count": 119,
   "metadata": {},
   "outputs": [],
   "source": [
    "import functools"
   ]
  },
  {
   "cell_type": "code",
   "execution_count": 120,
   "metadata": {},
   "outputs": [],
   "source": [
    "def power(base, exponent):\n",
    "    return math.pow(base, exponent)"
   ]
  },
  {
   "cell_type": "code",
   "execution_count": 121,
   "metadata": {},
   "outputs": [],
   "source": [
    "square_partial = functools.partial(power, exponent=2)"
   ]
  },
  {
   "cell_type": "code",
   "execution_count": 122,
   "metadata": {},
   "outputs": [
    {
     "data": {
      "text/plain": [
       "16.0"
      ]
     },
     "execution_count": 122,
     "metadata": {},
     "output_type": "execute_result"
    }
   ],
   "source": [
    "square_partial(4)"
   ]
  },
  {
   "cell_type": "markdown",
   "metadata": {},
   "source": [
    "### list expressions"
   ]
  },
  {
   "cell_type": "code",
   "execution_count": 123,
   "metadata": {},
   "outputs": [
    {
     "data": {
      "text/plain": [
       "[1, 4, 9, 16]"
      ]
     },
     "execution_count": 123,
     "metadata": {},
     "output_type": "execute_result"
    }
   ],
   "source": [
    "# [function for item in iterable]\n",
    "[x * x for x in [1, 2, 3, 4]]"
   ]
  },
  {
   "cell_type": "code",
   "execution_count": 124,
   "metadata": {},
   "outputs": [
    {
     "data": {
      "text/plain": [
       "[1, 2, 3, 4]"
      ]
     },
     "execution_count": 124,
     "metadata": {},
     "output_type": "execute_result"
    }
   ],
   "source": [
    "# with `if`\n",
    "[x for x in range(-5, 5) if x > 0]"
   ]
  },
  {
   "cell_type": "code",
   "execution_count": 125,
   "metadata": {},
   "outputs": [
    {
     "data": {
      "text/plain": [
       "[1, 2, 3, 4, 5]"
      ]
     },
     "execution_count": 125,
     "metadata": {},
     "output_type": "execute_result"
    }
   ],
   "source": [
    "# with `if`/`else`\n",
    "[num/5 if num < 0 else num for num in x]"
   ]
  },
  {
   "cell_type": "code",
   "execution_count": 126,
   "metadata": {},
   "outputs": [
    {
     "data": {
      "text/plain": [
       "[1, 2, 3, 4, 5, 6, 7]"
      ]
     },
     "execution_count": 126,
     "metadata": {},
     "output_type": "execute_result"
    }
   ],
   "source": [
    "# double list expression\n",
    "[x for y in [[1, 2], [3, 4], [5, 6, 7]] for x in y]"
   ]
  },
  {
   "cell_type": "markdown",
   "metadata": {},
   "source": [
    "<br/><br/>\n",
    "## Conditional statements\n",
    "\n",
    "A simple example:\n",
    "\n",
    "<center><img src=../img/tree.png width=\"400\"></center>\n",
    "\n",
    "Use the following operators to implement tree:\n",
    "- `if`, `else`, `elif`\n",
    "- `and`, `or`\n",
    "- `>`, `<`, `>=`, `<=`, `==`, `!=`"
   ]
  },
  {
   "cell_type": "code",
   "execution_count": 127,
   "metadata": {},
   "outputs": [
    {
     "name": "stdout",
     "output_type": "stream",
     "text": [
      "I'll go for a bike ride\n"
     ]
    }
   ],
   "source": [
    "# if-else\n",
    "is_weather_good = True\n",
    "\n",
    "if is_weather_good:\n",
    "    print(\"I'll go for a bike ride\")\n",
    "else:\n",
    "    print(\"I'll do my MLiM Zoom class\")"
   ]
  },
  {
   "cell_type": "code",
   "execution_count": 128,
   "metadata": {},
   "outputs": [
    {
     "name": "stdout",
     "output_type": "stream",
     "text": [
      "I'll go for a bike ride\n"
     ]
    }
   ],
   "source": [
    "# and\n",
    "# comparison operators\n",
    "is_weather_good = True\n",
    "temperature = 25\n",
    "\n",
    "if is_weather_good and temperature < 30:\n",
    "    print(\"I'll go for a bike ride\")\n",
    "else:\n",
    "    print(\"I'll do my MLiM Zoom class\")"
   ]
  },
  {
   "cell_type": "code",
   "execution_count": 129,
   "metadata": {},
   "outputs": [
    {
     "name": "stdout",
     "output_type": "stream",
     "text": [
      "I'll go to the swimming pool\n"
     ]
    }
   ],
   "source": [
    "is_weather_good = True\n",
    "temperature = 35\n",
    "\n",
    "if is_weather_good:\n",
    "    if temperature < 30:\n",
    "        print(\"I'll go for a bike ride\")\n",
    "    else:\n",
    "        print(\"I'll go to the swimming pool\")\n",
    "else:\n",
    "    print(\"I'll go to the university\")"
   ]
  },
  {
   "cell_type": "code",
   "execution_count": 130,
   "metadata": {},
   "outputs": [
    {
     "name": "stdout",
     "output_type": "stream",
     "text": [
      "I'll go to the swimming pool\n"
     ]
    }
   ],
   "source": [
    "# elif and not\n",
    "is_weather_good = True\n",
    "temperature = 35\n",
    "\n",
    "if is_weather_good and temperature < 30:\n",
    "    print(\"I'll go for a bike ride\")\n",
    "elif is_weather_good and not(temperature < 30):\n",
    "    print(\"I'll go to the swimming pool\")\n",
    "else:\n",
    "    print(\"I'll go to the university\")"
   ]
  },
  {
   "cell_type": "code",
   "execution_count": 131,
   "metadata": {},
   "outputs": [
    {
     "name": "stdout",
     "output_type": "stream",
     "text": [
      "I'll go to the swimming pool\n"
     ]
    }
   ],
   "source": [
    "# or\n",
    "is_weather_good = False\n",
    "is_rain = False\n",
    "temperature = 35\n",
    "\n",
    "if is_weather_good and temperature < 30:\n",
    "    print(\"I'll go for a bike ride\")\n",
    "elif (is_weather_good or not(is_rain)) and not(temperature < 30):\n",
    "    print(\"I'll go to the swimming pool\")\n",
    "else:\n",
    "    print(\"I'll go to the university\")"
   ]
  },
  {
   "cell_type": "markdown",
   "metadata": {},
   "source": [
    "<br/><br/>\n",
    "## LOOPS"
   ]
  },
  {
   "cell_type": "markdown",
   "metadata": {},
   "source": [
    "### `while`"
   ]
  },
  {
   "cell_type": "code",
   "execution_count": 132,
   "metadata": {},
   "outputs": [
    {
     "name": "stdout",
     "output_type": "stream",
     "text": [
      "0\n",
      "1\n",
      "2\n",
      "3\n",
      "4\n",
      "done\n"
     ]
    }
   ],
   "source": [
    "i = 0\n",
    "while i <= 4:\n",
    "    print(i)\n",
    "    i += 1 # i = i + 1\n",
    "print(\"done\")"
   ]
  },
  {
   "cell_type": "code",
   "execution_count": 133,
   "metadata": {},
   "outputs": [
    {
     "name": "stdout",
     "output_type": "stream",
     "text": [
      "done\n"
     ]
    }
   ],
   "source": [
    "i = 10\n",
    "while i <= 4: # loop condition\n",
    "    print(i)\n",
    "    i += 1 # i = i + 1\n",
    "print(\"done\")"
   ]
  },
  {
   "cell_type": "markdown",
   "metadata": {},
   "source": [
    "### `for`"
   ]
  },
  {
   "cell_type": "code",
   "execution_count": 134,
   "metadata": {},
   "outputs": [
    {
     "name": "stdout",
     "output_type": "stream",
     "text": [
      "s\n",
      "d\n",
      "f\n",
      "d\n",
      "s\n",
      "s\n",
      "d\n",
      "f\n"
     ]
    }
   ],
   "source": [
    "for letter in \"sdfdssdf\":\n",
    "    print(letter)"
   ]
  },
  {
   "cell_type": "code",
   "execution_count": 135,
   "metadata": {},
   "outputs": [
    {
     "name": "stdout",
     "output_type": "stream",
     "text": [
      "0\n",
      "1\n",
      "2\n",
      "3\n",
      "4\n"
     ]
    }
   ],
   "source": [
    "for number in range(0, 5):\n",
    "    print(number)"
   ]
  },
  {
   "cell_type": "code",
   "execution_count": 136,
   "metadata": {},
   "outputs": [
    {
     "name": "stdout",
     "output_type": "stream",
     "text": [
      "3\n",
      "4\n"
     ]
    }
   ],
   "source": [
    "for number in range(3, 5):\n",
    "    print(number)"
   ]
  },
  {
   "cell_type": "code",
   "execution_count": 137,
   "metadata": {},
   "outputs": [
    {
     "name": "stdout",
     "output_type": "stream",
     "text": [
      "MLiM\n",
      "CACI\n",
      "MAFO\n"
     ]
    }
   ],
   "source": [
    "my_classes = [\"MLiM\", \"CACI\", \"MAFO\"]\n",
    "for one_of_my_classes in my_classes:\n",
    "    print(one_of_my_classes)"
   ]
  },
  {
   "cell_type": "code",
   "execution_count": 138,
   "metadata": {},
   "outputs": [
    {
     "name": "stdout",
     "output_type": "stream",
     "text": [
      "0 MLiM\n",
      "1 CACI\n",
      "2 MAFO\n"
     ]
    }
   ],
   "source": [
    "my_classes = [\"MLiM\", \"CACI\", \"MAFO\"]\n",
    "for i, one_of_my_classes in enumerate(my_classes):\n",
    "    print(i, one_of_my_classes)"
   ]
  },
  {
   "cell_type": "code",
   "execution_count": 139,
   "metadata": {},
   "outputs": [
    {
     "name": "stdout",
     "output_type": "stream",
     "text": [
      "Monday\n"
     ]
    }
   ],
   "source": [
    "for day in day_map:\n",
    "    print(day)"
   ]
  },
  {
   "cell_type": "code",
   "execution_count": 140,
   "metadata": {},
   "outputs": [
    {
     "name": "stdout",
     "output_type": "stream",
     "text": [
      "2\n"
     ]
    }
   ],
   "source": [
    "for day in day_map:\n",
    "    print(day_map[day])"
   ]
  },
  {
   "cell_type": "markdown",
   "metadata": {},
   "source": [
    "<br/><br/>\n",
    "## Errors and exceptions\n",
    "\n",
    "For more details, see https://docs.python.org/3/tutorial/errors.html"
   ]
  },
  {
   "cell_type": "markdown",
   "metadata": {},
   "source": [
    "### try/except"
   ]
  },
  {
   "cell_type": "code",
   "execution_count": 142,
   "metadata": {},
   "outputs": [
    {
     "name": "stdin",
     "output_type": "stream",
     "text": [
      "Input a number:  adsfdsaf\n"
     ]
    },
    {
     "name": "stdout",
     "output_type": "stream",
     "text": [
      "invalid input\n"
     ]
    }
   ],
   "source": [
    "try:\n",
    "    number = int(input(\"Input a number: \"))\n",
    "except:\n",
    "    print(\"invalid input\")"
   ]
  },
  {
   "cell_type": "code",
   "execution_count": 143,
   "metadata": {},
   "outputs": [
    {
     "name": "stdout",
     "output_type": "stream",
     "text": [
      "invalid input\n"
     ]
    }
   ],
   "source": [
    "try:\n",
    "    test = 10/0\n",
    "    number = int(input(\"Input a number: \"))\n",
    "except:\n",
    "    print(\"invalid input\")"
   ]
  },
  {
   "cell_type": "code",
   "execution_count": 144,
   "metadata": {},
   "outputs": [
    {
     "name": "stdin",
     "output_type": "stream",
     "text": [
      "Input a number:  adsfasdfasdf\n"
     ]
    },
    {
     "name": "stdout",
     "output_type": "stream",
     "text": [
      "invalid literal for int() with base 10: 'adsfasdfasdf'\n"
     ]
    }
   ],
   "source": [
    "try:\n",
    "    number = int(input(\"Input a number: \"))\n",
    "except ValueError as err:\n",
    "    print(err)"
   ]
  },
  {
   "cell_type": "markdown",
   "metadata": {},
   "source": [
    "<br/><br/>\n",
    "## Classes and Objects\n",
    "\n",
    "Create our own data types"
   ]
  },
  {
   "cell_type": "code",
   "execution_count": 145,
   "metadata": {},
   "outputs": [],
   "source": [
    "# class\n",
    "class Student:\n",
    "    \n",
    "    def __init__(self, name, age, major, grades):\n",
    "        # set attributes\n",
    "        self.name = name\n",
    "        self.age = age\n",
    "        self.major = major\n",
    "        self.grades = grades\n",
    "\n",
    "    # instance method -> modify objects, i.e., instances of a class\n",
    "    def get_name(self):\n",
    "        return self.name\n",
    "\n",
    "    # class method\n",
    "    @classmethod\n",
    "    def example_student(cls):\n",
    "        return cls(\"Jane Doe\", 25, \"Business\", None)\n",
    "\n",
    "    # static method -> can't modify object of class, mostly used to namespace methods\n",
    "    @staticmethod\n",
    "    def power(base, power):\n",
    "        return base**power\n"
   ]
  },
  {
   "cell_type": "code",
   "execution_count": 146,
   "metadata": {},
   "outputs": [],
   "source": [
    "# object\n",
    "student_1 = Student(\n",
    "    # parameters\n",
    "    \"Sebastian\",\n",
    "    35,\n",
    "    \"Business\",\n",
    "    {\"MLiM\": None, \"CACI\": None, \"MAFO\": None}\n",
    ")"
   ]
  },
  {
   "cell_type": "code",
   "execution_count": 147,
   "metadata": {},
   "outputs": [
    {
     "data": {
      "text/plain": [
       "{'MLiM': None, 'CACI': None, 'MAFO': None}"
      ]
     },
     "execution_count": 147,
     "metadata": {},
     "output_type": "execute_result"
    }
   ],
   "source": [
    "student_1.grades"
   ]
  },
  {
   "cell_type": "code",
   "execution_count": 148,
   "metadata": {},
   "outputs": [
    {
     "data": {
      "text/plain": [
       "'Sebastian'"
      ]
     },
     "execution_count": 148,
     "metadata": {},
     "output_type": "execute_result"
    }
   ],
   "source": [
    "student_1.get_name()"
   ]
  },
  {
   "cell_type": "code",
   "execution_count": 149,
   "metadata": {},
   "outputs": [
    {
     "data": {
      "text/plain": [
       "'Jane Doe'"
      ]
     },
     "execution_count": 149,
     "metadata": {},
     "output_type": "execute_result"
    }
   ],
   "source": [
    "# \"factory function\"\n",
    "jane_doe = student_1.example_student()\n",
    "jane_doe.name"
   ]
  },
  {
   "cell_type": "code",
   "execution_count": 150,
   "metadata": {},
   "outputs": [
    {
     "data": {
      "text/plain": [
       "8"
      ]
     },
     "execution_count": 150,
     "metadata": {},
     "output_type": "execute_result"
    }
   ],
   "source": [
    "student_1.power(2, 3)"
   ]
  },
  {
   "cell_type": "markdown",
   "metadata": {},
   "source": [
    "### Inheritance"
   ]
  },
  {
   "cell_type": "code",
   "execution_count": 151,
   "metadata": {},
   "outputs": [],
   "source": [
    "class MasterStudent(Student):\n",
    "    \n",
    "    def __init__(self, grade_bachelor, **kwargs):\n",
    "        Student.__init__(self, **kwargs)\n",
    "        self.grade_bachelor = grade_bachelor\n",
    "    \n",
    "    def get_bachelor_grade(self):\n",
    "        return self.grade_bachelor"
   ]
  },
  {
   "cell_type": "code",
   "execution_count": 152,
   "metadata": {},
   "outputs": [],
   "source": [
    "# object\n",
    "master_student_1 = MasterStudent(\n",
    "    name=\"Sebastian\",\n",
    "    age=35,\n",
    "    major=\"Business\",\n",
    "    grades={\"MLiM\": None, \"CACI\": None, \"MAFO\": None},\n",
    "    grade_bachelor=1.3\n",
    ")"
   ]
  },
  {
   "cell_type": "code",
   "execution_count": 153,
   "metadata": {},
   "outputs": [
    {
     "data": {
      "text/plain": [
       "1.3"
      ]
     },
     "execution_count": 153,
     "metadata": {},
     "output_type": "execute_result"
    }
   ],
   "source": [
    "master_student_1.get_bachelor_grade()"
   ]
  },
  {
   "cell_type": "markdown",
   "metadata": {},
   "source": [
    "### Classes in the wild: An `sklearn` example"
   ]
  },
  {
   "cell_type": "code",
   "execution_count": 154,
   "metadata": {},
   "outputs": [],
   "source": [
    "import numpy as np\n",
    "import pandas as pd\n",
    "import sklearn.preprocessing"
   ]
  },
  {
   "cell_type": "code",
   "execution_count": 155,
   "metadata": {},
   "outputs": [],
   "source": [
    "N = 10_000\n",
    "mu = 10\n",
    "sigma = 2"
   ]
  },
  {
   "cell_type": "code",
   "execution_count": 156,
   "metadata": {},
   "outputs": [
    {
     "data": {
      "text/plain": [
       "array([13.52810469, 10.80031442, 11.95747597, ..., 11.03374436,\n",
       "        9.93415861, 12.59622286])"
      ]
     },
     "execution_count": 156,
     "metadata": {},
     "output_type": "execute_result"
    }
   ],
   "source": [
    "np.random.seed(0)\n",
    "np.random.normal(mu, sigma, N)"
   ]
  },
  {
   "cell_type": "code",
   "execution_count": 157,
   "metadata": {},
   "outputs": [
    {
     "data": {
      "text/html": [
       "<div>\n",
       "<style scoped>\n",
       "    .dataframe tbody tr th:only-of-type {\n",
       "        vertical-align: middle;\n",
       "    }\n",
       "\n",
       "    .dataframe tbody tr th {\n",
       "        vertical-align: top;\n",
       "    }\n",
       "\n",
       "    .dataframe thead th {\n",
       "        text-align: right;\n",
       "    }\n",
       "</style>\n",
       "<table border=\"1\" class=\"dataframe\">\n",
       "  <thead>\n",
       "    <tr style=\"text-align: right;\">\n",
       "      <th></th>\n",
       "      <th>x</th>\n",
       "    </tr>\n",
       "  </thead>\n",
       "  <tbody>\n",
       "    <tr>\n",
       "      <th>0</th>\n",
       "      <td>13.528105</td>\n",
       "    </tr>\n",
       "    <tr>\n",
       "      <th>1</th>\n",
       "      <td>10.800314</td>\n",
       "    </tr>\n",
       "    <tr>\n",
       "      <th>2</th>\n",
       "      <td>11.957476</td>\n",
       "    </tr>\n",
       "    <tr>\n",
       "      <th>3</th>\n",
       "      <td>14.481786</td>\n",
       "    </tr>\n",
       "    <tr>\n",
       "      <th>4</th>\n",
       "      <td>13.735116</td>\n",
       "    </tr>\n",
       "  </tbody>\n",
       "</table>\n",
       "</div>"
      ],
      "text/plain": [
       "           x\n",
       "0  13.528105\n",
       "1  10.800314\n",
       "2  11.957476\n",
       "3  14.481786\n",
       "4  13.735116"
      ]
     },
     "execution_count": 157,
     "metadata": {},
     "output_type": "execute_result"
    }
   ],
   "source": [
    "np.random.seed(0)\n",
    "df = pd.DataFrame({\n",
    "    \"x\": np.random.normal(mu, sigma, N),\n",
    "})\n",
    "df.head()"
   ]
  },
  {
   "cell_type": "code",
   "execution_count": 158,
   "metadata": {},
   "outputs": [
    {
     "data": {
      "text/html": [
       "<div>\n",
       "<style scoped>\n",
       "    .dataframe tbody tr th:only-of-type {\n",
       "        vertical-align: middle;\n",
       "    }\n",
       "\n",
       "    .dataframe tbody tr th {\n",
       "        vertical-align: top;\n",
       "    }\n",
       "\n",
       "    .dataframe thead th {\n",
       "        text-align: right;\n",
       "    }\n",
       "</style>\n",
       "<table border=\"1\" class=\"dataframe\">\n",
       "  <thead>\n",
       "    <tr style=\"text-align: right;\">\n",
       "      <th></th>\n",
       "      <th>x</th>\n",
       "      <th>x_raw</th>\n",
       "    </tr>\n",
       "  </thead>\n",
       "  <tbody>\n",
       "    <tr>\n",
       "      <th>0</th>\n",
       "      <td>27.056209</td>\n",
       "      <td>13.528105</td>\n",
       "    </tr>\n",
       "    <tr>\n",
       "      <th>1</th>\n",
       "      <td>21.600629</td>\n",
       "      <td>10.800314</td>\n",
       "    </tr>\n",
       "    <tr>\n",
       "      <th>2</th>\n",
       "      <td>23.914952</td>\n",
       "      <td>11.957476</td>\n",
       "    </tr>\n",
       "    <tr>\n",
       "      <th>3</th>\n",
       "      <td>28.963573</td>\n",
       "      <td>14.481786</td>\n",
       "    </tr>\n",
       "    <tr>\n",
       "      <th>4</th>\n",
       "      <td>27.470232</td>\n",
       "      <td>13.735116</td>\n",
       "    </tr>\n",
       "  </tbody>\n",
       "</table>\n",
       "</div>"
      ],
      "text/plain": [
       "           x      x_raw\n",
       "0  27.056209  13.528105\n",
       "1  21.600629  10.800314\n",
       "2  23.914952  11.957476\n",
       "3  28.963573  14.481786\n",
       "4  27.470232  13.735116"
      ]
     },
     "execution_count": 158,
     "metadata": {},
     "output_type": "execute_result"
    }
   ],
   "source": [
    "df[\"x_raw\"] = df[\"x\"]\n",
    "df[\"x\"] *= 2\n",
    "df.head()"
   ]
  },
  {
   "cell_type": "code",
   "execution_count": 159,
   "metadata": {},
   "outputs": [
    {
     "data": {
      "text/html": [
       "<div>\n",
       "<style scoped>\n",
       "    .dataframe tbody tr th:only-of-type {\n",
       "        vertical-align: middle;\n",
       "    }\n",
       "\n",
       "    .dataframe tbody tr th {\n",
       "        vertical-align: top;\n",
       "    }\n",
       "\n",
       "    .dataframe thead th {\n",
       "        text-align: right;\n",
       "    }\n",
       "</style>\n",
       "<table border=\"1\" class=\"dataframe\">\n",
       "  <thead>\n",
       "    <tr style=\"text-align: right;\">\n",
       "      <th></th>\n",
       "      <th>x</th>\n",
       "      <th>x_raw</th>\n",
       "    </tr>\n",
       "  </thead>\n",
       "  <tbody>\n",
       "    <tr>\n",
       "      <th>0</th>\n",
       "      <td>13.528105</td>\n",
       "      <td>13.528105</td>\n",
       "    </tr>\n",
       "    <tr>\n",
       "      <th>1</th>\n",
       "      <td>10.800314</td>\n",
       "      <td>10.800314</td>\n",
       "    </tr>\n",
       "    <tr>\n",
       "      <th>2</th>\n",
       "      <td>11.957476</td>\n",
       "      <td>11.957476</td>\n",
       "    </tr>\n",
       "    <tr>\n",
       "      <th>3</th>\n",
       "      <td>14.481786</td>\n",
       "      <td>14.481786</td>\n",
       "    </tr>\n",
       "    <tr>\n",
       "      <th>4</th>\n",
       "      <td>13.735116</td>\n",
       "      <td>13.735116</td>\n",
       "    </tr>\n",
       "  </tbody>\n",
       "</table>\n",
       "</div>"
      ],
      "text/plain": [
       "           x      x_raw\n",
       "0  13.528105  13.528105\n",
       "1  10.800314  10.800314\n",
       "2  11.957476  11.957476\n",
       "3  14.481786  14.481786\n",
       "4  13.735116  13.735116"
      ]
     },
     "execution_count": 159,
     "metadata": {},
     "output_type": "execute_result"
    }
   ],
   "source": [
    "df[\"x\"] /= 2\n",
    "df.head()"
   ]
  },
  {
   "cell_type": "code",
   "execution_count": 160,
   "metadata": {},
   "outputs": [],
   "source": [
    "df['scale_function'] = sklearn.preprocessing.scale(df[\"x\"])"
   ]
  },
  {
   "cell_type": "code",
   "execution_count": 161,
   "metadata": {},
   "outputs": [],
   "source": [
    "standard_scaler = sklearn.preprocessing.StandardScaler()\n",
    "standard_scaler.fit(df[[\"x\"]])\n",
    "df['scaler_class'] = standard_scaler.transform(df[[\"x\"]])"
   ]
  },
  {
   "cell_type": "code",
   "execution_count": 162,
   "metadata": {},
   "outputs": [
    {
     "data": {
      "text/html": [
       "<div>\n",
       "<style scoped>\n",
       "    .dataframe tbody tr th:only-of-type {\n",
       "        vertical-align: middle;\n",
       "    }\n",
       "\n",
       "    .dataframe tbody tr th {\n",
       "        vertical-align: top;\n",
       "    }\n",
       "\n",
       "    .dataframe thead th {\n",
       "        text-align: right;\n",
       "    }\n",
       "</style>\n",
       "<table border=\"1\" class=\"dataframe\">\n",
       "  <thead>\n",
       "    <tr style=\"text-align: right;\">\n",
       "      <th></th>\n",
       "      <th>x</th>\n",
       "      <th>x_raw</th>\n",
       "      <th>scale_function</th>\n",
       "      <th>scaler_class</th>\n",
       "    </tr>\n",
       "  </thead>\n",
       "  <tbody>\n",
       "    <tr>\n",
       "      <th>0</th>\n",
       "      <td>13.528105</td>\n",
       "      <td>13.528105</td>\n",
       "      <td>1.804946</td>\n",
       "      <td>1.804946</td>\n",
       "    </tr>\n",
       "    <tr>\n",
       "      <th>1</th>\n",
       "      <td>10.800314</td>\n",
       "      <td>10.800314</td>\n",
       "      <td>0.423865</td>\n",
       "      <td>0.423865</td>\n",
       "    </tr>\n",
       "    <tr>\n",
       "      <th>2</th>\n",
       "      <td>11.957476</td>\n",
       "      <td>11.957476</td>\n",
       "      <td>1.009736</td>\n",
       "      <td>1.009736</td>\n",
       "    </tr>\n",
       "    <tr>\n",
       "      <th>3</th>\n",
       "      <td>14.481786</td>\n",
       "      <td>14.481786</td>\n",
       "      <td>2.287795</td>\n",
       "      <td>2.287795</td>\n",
       "    </tr>\n",
       "    <tr>\n",
       "      <th>4</th>\n",
       "      <td>13.735116</td>\n",
       "      <td>13.735116</td>\n",
       "      <td>1.909756</td>\n",
       "      <td>1.909756</td>\n",
       "    </tr>\n",
       "  </tbody>\n",
       "</table>\n",
       "</div>"
      ],
      "text/plain": [
       "           x      x_raw  scale_function  scaler_class\n",
       "0  13.528105  13.528105        1.804946      1.804946\n",
       "1  10.800314  10.800314        0.423865      0.423865\n",
       "2  11.957476  11.957476        1.009736      1.009736\n",
       "3  14.481786  14.481786        2.287795      2.287795\n",
       "4  13.735116  13.735116        1.909756      1.909756"
      ]
     },
     "execution_count": 162,
     "metadata": {},
     "output_type": "execute_result"
    }
   ],
   "source": [
    "df.head()"
   ]
  },
  {
   "cell_type": "markdown",
   "metadata": {},
   "source": [
    "<br/><br/>\n",
    "## Import modules\n",
    "\n",
    "Use `pip` package manager to install packages.  Install packages into `virtualenv`.\n",
    "\n",
    "Check the [Python Module Index](https://docs.python.org/3/py-modindex.html)"
   ]
  },
  {
   "cell_type": "markdown",
   "metadata": {},
   "source": [
    "### Modules we will use"
   ]
  },
  {
   "cell_type": "code",
   "execution_count": 163,
   "metadata": {},
   "outputs": [],
   "source": [
    "# data\n",
    "import yaml\n",
    "import numpy\n",
    "import pandas\n",
    "import pyarrow\n",
    "\n",
    "# ml/stats\n",
    "import sklearn\n",
    "import gensim\n",
    "import statsmodels\n",
    "import lightgbm\n",
    "import scipy\n",
    "\n",
    "# plotting\n",
    "import matplotlib\n",
    "import seaborn\n",
    "import plotly\n",
    "\n",
    "# other\n",
    "import tqdm"
   ]
  },
  {
   "cell_type": "markdown",
   "metadata": {},
   "source": [
    "### Some useful examples\n",
    "\n",
    "#### `hashlib`"
   ]
  },
  {
   "cell_type": "code",
   "execution_count": 164,
   "metadata": {},
   "outputs": [],
   "source": [
    "import hashlib"
   ]
  },
  {
   "cell_type": "code",
   "execution_count": 165,
   "metadata": {},
   "outputs": [
    {
     "data": {
      "text/plain": [
       "'test'"
      ]
     },
     "execution_count": 165,
     "metadata": {},
     "output_type": "execute_result"
    }
   ],
   "source": [
    "\"test\""
   ]
  },
  {
   "cell_type": "code",
   "execution_count": 166,
   "metadata": {},
   "outputs": [
    {
     "data": {
      "text/plain": [
       "b'test'"
      ]
     },
     "execution_count": 166,
     "metadata": {},
     "output_type": "execute_result"
    }
   ],
   "source": [
    "\"test\".encode('utf-8')"
   ]
  },
  {
   "cell_type": "code",
   "execution_count": 167,
   "metadata": {},
   "outputs": [
    {
     "data": {
      "text/plain": [
       "'9f86d081884c7d659a2feaa0c55ad015a3bf4f1b2b0b822cd15d6c15b0f00a08'"
      ]
     },
     "execution_count": 167,
     "metadata": {},
     "output_type": "execute_result"
    }
   ],
   "source": [
    "hashlib.sha256(\"test\".encode('utf-8')).hexdigest()"
   ]
  },
  {
   "cell_type": "markdown",
   "metadata": {},
   "source": [
    "#### `yaml`, `json`, and `dict_hash`"
   ]
  },
  {
   "cell_type": "code",
   "execution_count": 168,
   "metadata": {},
   "outputs": [],
   "source": [
    "import yaml\n",
    "import json\n",
    "import dict_hash"
   ]
  },
  {
   "cell_type": "code",
   "execution_count": 169,
   "metadata": {},
   "outputs": [
    {
     "data": {
      "text/plain": [
       "{'author': 'sebastian',\n",
       " 'version': 1.1,\n",
       " 'pipeline': ['data', 'p2v', 'tsne'],\n",
       " 'config': {'data': {'variable_basket': 'basket_hash',\n",
       "   'variable_values': ['j'],\n",
       "   'batch_size': 1000,\n",
       "   'shuffle': True,\n",
       "   'n_negative_samples': 20,\n",
       "   'power': 0.75},\n",
       "  'p2v': {'p2v_kwargs': {'size': 15,\n",
       "    'bias_negative_sampling': True,\n",
       "    'product_bias_negative_sampling': False,\n",
       "    'normalise_weights': False,\n",
       "    'regularisation': None,\n",
       "    'use_covariates': False,\n",
       "    'optimizer': {'method': 'adam',\n",
       "     'control': {'beta1': 0.9, 'beta2': 0.999, 'epsilon': '1e-08'}},\n",
       "    'path_results': './results/p2v-map-example',\n",
       "    'n_batch_save': 1000,\n",
       "    'n_batch_validation': 1000000,\n",
       "    'n_batch_print': 1000,\n",
       "    'n_products': 150,\n",
       "    'verbose': 0,\n",
       "    'train_streamer': None,\n",
       "    'validation_streamer': None,\n",
       "    'test_streamer': None},\n",
       "   'p2v_train_kwargs': {'n_epoch': 5, 'learning_rate': 0.0005}},\n",
       "  'tsne': {'tsne_data_kwargs': {'epoch': 4,\n",
       "    'batch': 3000,\n",
       "    'l2norm': True,\n",
       "    'pca': None,\n",
       "    'path_results': './results/p2v-map-example'},\n",
       "   'tsne_kwargs': {'random_state': 1,\n",
       "    'n_components': 2,\n",
       "    'n_iter': 4000,\n",
       "    'perplexity': 15,\n",
       "    'init': 'pca',\n",
       "    'angle': 0.5,\n",
       "    'verbose': 0}}}}"
      ]
     },
     "execution_count": 169,
     "metadata": {},
     "output_type": "execute_result"
    }
   ],
   "source": [
    "with open(\"e01-config.yaml\") as file:\n",
    "    my_config = yaml.safe_load(file)\n",
    "my_config"
   ]
  },
  {
   "cell_type": "code",
   "execution_count": 170,
   "metadata": {},
   "outputs": [
    {
     "name": "stdout",
     "output_type": "stream",
     "text": [
      "{\n",
      "    \"author\": \"sebastian\",\n",
      "    \"config\": {\n",
      "        \"data\": {\n",
      "            \"batch_size\": 1000,\n",
      "            \"n_negative_samples\": 20,\n",
      "            \"power\": 0.75,\n",
      "            \"shuffle\": true,\n",
      "            \"variable_basket\": \"basket_hash\",\n",
      "            \"variable_values\": [\n",
      "                \"j\"\n",
      "            ]\n",
      "        },\n",
      "        \"p2v\": {\n",
      "            \"p2v_kwargs\": {\n",
      "                \"bias_negative_sampling\": true,\n",
      "                \"n_batch_print\": 1000,\n",
      "                \"n_batch_save\": 1000,\n",
      "                \"n_batch_validation\": 1000000,\n",
      "                \"n_products\": 150,\n",
      "                \"normalise_weights\": false,\n",
      "                \"optimizer\": {\n",
      "                    \"control\": {\n",
      "                        \"beta1\": 0.9,\n",
      "                        \"beta2\": 0.999,\n",
      "                        \"epsilon\": \"1e-08\"\n",
      "                    },\n",
      "                    \"method\": \"adam\"\n",
      "                },\n",
      "                \"path_results\": \"./results/p2v-map-example\",\n",
      "                \"product_bias_negative_sampling\": false,\n",
      "                \"regularisation\": null,\n",
      "                \"size\": 15,\n",
      "                \"test_streamer\": null,\n",
      "                \"train_streamer\": null,\n",
      "                \"use_covariates\": false,\n",
      "                \"validation_streamer\": null,\n",
      "                \"verbose\": 0\n",
      "            },\n",
      "            \"p2v_train_kwargs\": {\n",
      "                \"learning_rate\": 0.0005,\n",
      "                \"n_epoch\": 5\n",
      "            }\n",
      "        },\n",
      "        \"tsne\": {\n",
      "            \"tsne_data_kwargs\": {\n",
      "                \"batch\": 3000,\n",
      "                \"epoch\": 4,\n",
      "                \"l2norm\": true,\n",
      "                \"path_results\": \"./results/p2v-map-example\",\n",
      "                \"pca\": null\n",
      "            },\n",
      "            \"tsne_kwargs\": {\n",
      "                \"angle\": 0.5,\n",
      "                \"init\": \"pca\",\n",
      "                \"n_components\": 2,\n",
      "                \"n_iter\": 4000,\n",
      "                \"perplexity\": 15,\n",
      "                \"random_state\": 1,\n",
      "                \"verbose\": 0\n",
      "            }\n",
      "        }\n",
      "    },\n",
      "    \"pipeline\": [\n",
      "        \"data\",\n",
      "        \"p2v\",\n",
      "        \"tsne\"\n",
      "    ],\n",
      "    \"version\": 1.1\n",
      "}\n"
     ]
    }
   ],
   "source": [
    "print(json.dumps(my_config, indent=4, sort_keys=True))"
   ]
  },
  {
   "cell_type": "code",
   "execution_count": 171,
   "metadata": {},
   "outputs": [],
   "source": [
    "my_config[\"config_hash\"] = dict_hash.sha256(my_config[\"config\"])"
   ]
  },
  {
   "cell_type": "code",
   "execution_count": 172,
   "metadata": {},
   "outputs": [
    {
     "name": "stdout",
     "output_type": "stream",
     "text": [
      "{\n",
      "    \"author\": \"sebastian\",\n",
      "    \"config\": {\n",
      "        \"data\": {\n",
      "            \"batch_size\": 1000,\n",
      "            \"n_negative_samples\": 20,\n",
      "            \"power\": 0.75,\n",
      "            \"shuffle\": true,\n",
      "            \"variable_basket\": \"basket_hash\",\n",
      "            \"variable_values\": [\n",
      "                \"j\"\n",
      "            ]\n",
      "        },\n",
      "        \"p2v\": {\n",
      "            \"p2v_kwargs\": {\n",
      "                \"bias_negative_sampling\": true,\n",
      "                \"n_batch_print\": 1000,\n",
      "                \"n_batch_save\": 1000,\n",
      "                \"n_batch_validation\": 1000000,\n",
      "                \"n_products\": 150,\n",
      "                \"normalise_weights\": false,\n",
      "                \"optimizer\": {\n",
      "                    \"control\": {\n",
      "                        \"beta1\": 0.9,\n",
      "                        \"beta2\": 0.999,\n",
      "                        \"epsilon\": \"1e-08\"\n",
      "                    },\n",
      "                    \"method\": \"adam\"\n",
      "                },\n",
      "                \"path_results\": \"./results/p2v-map-example\",\n",
      "                \"product_bias_negative_sampling\": false,\n",
      "                \"regularisation\": null,\n",
      "                \"size\": 15,\n",
      "                \"test_streamer\": null,\n",
      "                \"train_streamer\": null,\n",
      "                \"use_covariates\": false,\n",
      "                \"validation_streamer\": null,\n",
      "                \"verbose\": 0\n",
      "            },\n",
      "            \"p2v_train_kwargs\": {\n",
      "                \"learning_rate\": 0.0005,\n",
      "                \"n_epoch\": 5\n",
      "            }\n",
      "        },\n",
      "        \"tsne\": {\n",
      "            \"tsne_data_kwargs\": {\n",
      "                \"batch\": 3000,\n",
      "                \"epoch\": 4,\n",
      "                \"l2norm\": true,\n",
      "                \"path_results\": \"./results/p2v-map-example\",\n",
      "                \"pca\": null\n",
      "            },\n",
      "            \"tsne_kwargs\": {\n",
      "                \"angle\": 0.5,\n",
      "                \"init\": \"pca\",\n",
      "                \"n_components\": 2,\n",
      "                \"n_iter\": 4000,\n",
      "                \"perplexity\": 15,\n",
      "                \"random_state\": 1,\n",
      "                \"verbose\": 0\n",
      "            }\n",
      "        }\n",
      "    },\n",
      "    \"config_hash\": \"c1f513ac8fc79b14debee8b02705dd8ae0a528f5dac27bc16b333d71e7904b22\",\n",
      "    \"pipeline\": [\n",
      "        \"data\",\n",
      "        \"p2v\",\n",
      "        \"tsne\"\n",
      "    ],\n",
      "    \"version\": 1.1\n",
      "}\n"
     ]
    }
   ],
   "source": [
    "print(json.dumps(my_config, indent=4, sort_keys=True))"
   ]
  },
  {
   "cell_type": "code",
   "execution_count": 173,
   "metadata": {},
   "outputs": [
    {
     "name": "stdout",
     "output_type": "stream",
     "text": [
      "author: sebastian\n",
      "config:\n",
      "  data:\n",
      "    batch_size: 1000\n",
      "    n_negative_samples: 20\n",
      "    power: 0.75\n",
      "    shuffle: true\n",
      "    variable_basket: basket_hash\n",
      "    variable_values:\n",
      "    - j\n",
      "  p2v:\n",
      "    p2v_kwargs:\n",
      "      bias_negative_sampling: true\n",
      "      n_batch_print: 1000\n",
      "      n_batch_save: 1000\n",
      "      n_batch_validation: 1000000\n",
      "      n_products: 150\n",
      "      normalise_weights: false\n",
      "      optimizer:\n",
      "        control:\n",
      "          beta1: 0.9\n",
      "          beta2: 0.999\n",
      "          epsilon: 1e-08\n",
      "        method: adam\n",
      "      path_results: ./results/p2v-map-example\n",
      "      product_bias_negative_sampling: false\n",
      "      regularisation: null\n",
      "      size: 15\n",
      "      test_streamer: null\n",
      "      train_streamer: null\n",
      "      use_covariates: false\n",
      "      validation_streamer: null\n",
      "      verbose: 0\n",
      "    p2v_train_kwargs:\n",
      "      learning_rate: 0.0005\n",
      "      n_epoch: 5\n",
      "  tsne:\n",
      "    tsne_data_kwargs:\n",
      "      batch: 3000\n",
      "      epoch: 4\n",
      "      l2norm: true\n",
      "      path_results: ./results/p2v-map-example\n",
      "      pca: null\n",
      "    tsne_kwargs:\n",
      "      angle: 0.5\n",
      "      init: pca\n",
      "      n_components: 2\n",
      "      n_iter: 4000\n",
      "      perplexity: 15\n",
      "      random_state: 1\n",
      "      verbose: 0\n",
      "config_hash: c1f513ac8fc79b14debee8b02705dd8ae0a528f5dac27bc16b333d71e7904b22\n",
      "pipeline:\n",
      "- data\n",
      "- p2v\n",
      "- tsne\n",
      "version: 1.1\n",
      "\n"
     ]
    }
   ],
   "source": [
    "print(yaml.dump(my_config))"
   ]
  },
  {
   "cell_type": "markdown",
   "metadata": {},
   "source": [
    "### We can write our own modules "
   ]
  },
  {
   "cell_type": "code",
   "execution_count": 174,
   "metadata": {},
   "outputs": [],
   "source": [
    "import sys\n",
    "sys.path.append(\"exercises\")\n",
    "import e01_example_lib"
   ]
  },
  {
   "cell_type": "code",
   "execution_count": 175,
   "metadata": {},
   "outputs": [
    {
     "name": "stdout",
     "output_type": "stream",
     "text": [
      "hello world\n"
     ]
    }
   ],
   "source": [
    "e01_example_lib.hello_world()"
   ]
  },
  {
   "cell_type": "code",
   "execution_count": 176,
   "metadata": {},
   "outputs": [
    {
     "data": {
      "text/plain": [
       "36"
      ]
     },
     "execution_count": 176,
     "metadata": {},
     "output_type": "execute_result"
    }
   ],
   "source": [
    "e01_example_lib.age"
   ]
  },
  {
   "cell_type": "code",
   "execution_count": 177,
   "metadata": {},
   "outputs": [
    {
     "data": {
      "text/plain": [
       "'Gabel'"
      ]
     },
     "execution_count": 177,
     "metadata": {},
     "output_type": "execute_result"
    }
   ],
   "source": [
    "e01_example_lib.last_name"
   ]
  },
  {
   "cell_type": "code",
   "execution_count": 178,
   "metadata": {},
   "outputs": [
    {
     "name": "stdout",
     "output_type": "stream",
     "text": [
      "Sebastian Gabel (36)\n"
     ]
    }
   ],
   "source": [
    "e01_example_lib.print_profile()"
   ]
  },
  {
   "cell_type": "markdown",
   "metadata": {},
   "source": [
    "&mdash; <br>\n",
    "Dr. Sebastian Gabel <br>\n",
    "Machine Learning in Marketing &ndash; Exercise 1 <br>\n",
    "2020 <br>"
   ]
  }
 ],
 "metadata": {
  "kernelspec": {
   "display_name": "Python 3",
   "language": "python",
   "name": "python3"
  },
  "language_info": {
   "codemirror_mode": {
    "name": "ipython",
    "version": 3
   },
   "file_extension": ".py",
   "mimetype": "text/x-python",
   "name": "python",
   "nbconvert_exporter": "python",
   "pygments_lexer": "ipython3",
   "version": "3.8.6"
  }
 },
 "nbformat": 4,
 "nbformat_minor": 4
}
