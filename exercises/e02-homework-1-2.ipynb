{
 "cells": [
  {
   "cell_type": "markdown",
   "metadata": {},
   "source": [
    "# Exercise 02: Homework Assignment 1.2\n",
    "\n",
    "_Disclaimer:_ This is not necessarily the best implementation, just one simple example how to \"get the job done.\"  We use this exercise to familiarize ourselves with some basic features and modules in Python that will be valuable over the next couple of weeks.\n",
    "\n",
    "## Task\n",
    "\n",
    "Create a Python class that offers the following functionality:\n",
    "\n",
    "- Read a configuration from a file and save a configuration to a file. The implementation should work for both .yaml and .json files.\n",
    "- Print the configuration.\n",
    "- Return the configuration as a suitable data structure.\n",
    "- Build a unique identifier for the configuration.  No two configurations should have the same identifier unless their content is identical.\n",
    "\n",
    "We can use the example config `exercises/e01-config.yaml`."
   ]
  },
  {
   "cell_type": "code",
   "execution_count": 1,
   "metadata": {},
   "outputs": [],
   "source": [
    "import os\n",
    "import yaml\n",
    "import json\n",
    "import dict_hash\n",
    "import hashlib\n",
    "import copy\n",
    "\n",
    "import numpy as np"
   ]
  },
  {
   "cell_type": "code",
   "execution_count": 2,
   "metadata": {},
   "outputs": [],
   "source": [
    "# the (absolute) path to which you cloned the repository\n",
    "PATH_REPO = os.path.expanduser(\"~/repos/mlim\")"
   ]
  },
  {
   "cell_type": "markdown",
   "metadata": {},
   "source": [
    "## Some first steps\n",
    "\n",
    "### Read config (from yaml)\n",
    "\n",
    "Use packages `yaml` and `json` to read config files."
   ]
  },
  {
   "cell_type": "code",
   "execution_count": 3,
   "metadata": {},
   "outputs": [],
   "source": [
    "# yaml (YAML Ain’t Markup Language, Yet Another Markup Language)\n",
    "def read_yaml(file):\n",
    "    with open(file, \"r\") as con:\n",
    "        config = yaml.safe_load(con)\n",
    "    return config"
   ]
  },
  {
   "cell_type": "code",
   "execution_count": 4,
   "metadata": {},
   "outputs": [],
   "source": [
    "# json (JavaScript Object Notation)\n",
    "def read_json(file):\n",
    "    with open(file, \"r\") as con:\n",
    "        config = json.load(con)\n",
    "    return config"
   ]
  },
  {
   "cell_type": "code",
   "execution_count": 5,
   "metadata": {},
   "outputs": [],
   "source": [
    "config = read_yaml(f\"{PATH_REPO}/exercises/e01-config.yaml\")"
   ]
  },
  {
   "cell_type": "code",
   "execution_count": 6,
   "metadata": {},
   "outputs": [
    {
     "data": {
      "text/plain": [
       "dict_keys(['project', 'author', 'version', 'pipeline', 'config'])"
      ]
     },
     "execution_count": 6,
     "metadata": {},
     "output_type": "execute_result"
    }
   ],
   "source": [
    "config.keys()"
   ]
  },
  {
   "cell_type": "code",
   "execution_count": 7,
   "metadata": {},
   "outputs": [
    {
     "data": {
      "text/plain": [
       "'sebastian'"
      ]
     },
     "execution_count": 7,
     "metadata": {},
     "output_type": "execute_result"
    }
   ],
   "source": [
    "config[\"author\"]"
   ]
  },
  {
   "cell_type": "code",
   "execution_count": 8,
   "metadata": {},
   "outputs": [
    {
     "data": {
      "text/plain": [
       "1.2"
      ]
     },
     "execution_count": 8,
     "metadata": {},
     "output_type": "execute_result"
    }
   ],
   "source": [
    "config[\"version\"]"
   ]
  },
  {
   "cell_type": "code",
   "execution_count": 9,
   "metadata": {},
   "outputs": [
    {
     "data": {
      "text/plain": [
       "dict_keys(['data', 'p2v', 'tsne'])"
      ]
     },
     "execution_count": 9,
     "metadata": {},
     "output_type": "execute_result"
    }
   ],
   "source": [
    "config[\"config\"].keys()"
   ]
  },
  {
   "cell_type": "code",
   "execution_count": 10,
   "metadata": {},
   "outputs": [
    {
     "data": {
      "text/plain": [
       "['data', 'p2v', 'tsne']"
      ]
     },
     "execution_count": 10,
     "metadata": {},
     "output_type": "execute_result"
    }
   ],
   "source": [
    "# we expect that each pipeline stage has an entry in `(object)[config]`\n",
    "assert np.all(\n",
    "    [x in config[\"config\"] for x in config[\"pipeline\"]]\n",
    ")\n",
    "config[\"pipeline\"]"
   ]
  },
  {
   "cell_type": "code",
   "execution_count": 11,
   "metadata": {},
   "outputs": [
    {
     "data": {
      "text/plain": [
       "{'variable_basket': 'basket_hash',\n",
       " 'variable_values': ['j'],\n",
       " 'batch_size': 1000,\n",
       " 'shuffle': True,\n",
       " 'n_negative_samples': 20,\n",
       " 'power': 0.75}"
      ]
     },
     "execution_count": 11,
     "metadata": {},
     "output_type": "execute_result"
    }
   ],
   "source": [
    "# let's just look at one entry in the config, otherwise the output is too long\n",
    "config[\"config\"][\"data\"]"
   ]
  },
  {
   "cell_type": "markdown",
   "metadata": {},
   "source": [
    "### Create hash for config"
   ]
  },
  {
   "cell_type": "code",
   "execution_count": 12,
   "metadata": {},
   "outputs": [
    {
     "data": {
      "text/plain": [
       "'35d57bc216f4cf81dce7d2636d29cfdf000f01dd542386a27d9f2640be943026'"
      ]
     },
     "execution_count": 12,
     "metadata": {},
     "output_type": "execute_result"
    }
   ],
   "source": [
    "dict_hash.sha256(config)"
   ]
  },
  {
   "cell_type": "code",
   "execution_count": 13,
   "metadata": {},
   "outputs": [
    {
     "data": {
      "text/plain": [
       "'39fcfe16b9e74b076cd6b80ef1f09b373772ca1e8e4ec1ee0bf9e62f92b22343'"
      ]
     },
     "execution_count": 13,
     "metadata": {},
     "output_type": "execute_result"
    }
   ],
   "source": [
    "config_new_author = copy.deepcopy(config)\n",
    "config_new_author[\"author\"] = \"name of new author\"\n",
    "dict_hash.sha256(config_new_author)"
   ]
  },
  {
   "cell_type": "code",
   "execution_count": 14,
   "metadata": {},
   "outputs": [
    {
     "data": {
      "text/plain": [
       "'c1f513ac8fc79b14debee8b02705dd8ae0a528f5dac27bc16b333d71e7904b22'"
      ]
     },
     "execution_count": 14,
     "metadata": {},
     "output_type": "execute_result"
    }
   ],
   "source": [
    "# we only care about the configs for pipeline stages so we hash `(object)[\"config\"]`\n",
    "# (excluding author, version, ...)\n",
    "config_hash = dict_hash.sha256(config[\"config\"])\n",
    "assert config_hash == dict_hash.sha256(config_new_author[\"config\"])\n",
    "config_hash"
   ]
  },
  {
   "cell_type": "markdown",
   "metadata": {},
   "source": [
    "### Write config (as json and yaml)"
   ]
  },
  {
   "cell_type": "markdown",
   "metadata": {},
   "source": [
    "#### yaml"
   ]
  },
  {
   "cell_type": "code",
   "execution_count": 15,
   "metadata": {},
   "outputs": [],
   "source": [
    "def write_yaml(x, file):\n",
    "    with open(file, \"w\") as con:\n",
    "        yaml.dump(x, con, sort_keys=False)"
   ]
  },
  {
   "cell_type": "code",
   "execution_count": 16,
   "metadata": {},
   "outputs": [
    {
     "data": {
      "text/plain": [
       "'/Users/sbstn/repos/mlim/exercises/c1f513ac8fc79b14debee8b02705dd8ae0a528f5dac27bc16b333d71e7904b22.yaml'"
      ]
     },
     "execution_count": 16,
     "metadata": {},
     "output_type": "execute_result"
    }
   ],
   "source": [
    "f\"{PATH_REPO}/exercises/{config_hash}.yaml\""
   ]
  },
  {
   "cell_type": "code",
   "execution_count": 17,
   "metadata": {},
   "outputs": [],
   "source": [
    "write_yaml(config, f\"{PATH_REPO}/exercises/{config_hash}.yaml\")"
   ]
  },
  {
   "cell_type": "code",
   "execution_count": 18,
   "metadata": {},
   "outputs": [
    {
     "data": {
      "text/plain": [
       "{'variable_basket': 'basket_hash',\n",
       " 'variable_values': ['j'],\n",
       " 'batch_size': 1000,\n",
       " 'shuffle': True,\n",
       " 'n_negative_samples': 20,\n",
       " 'power': 0.75}"
      ]
     },
     "execution_count": 18,
     "metadata": {},
     "output_type": "execute_result"
    }
   ],
   "source": [
    "config_yaml_2 = read_yaml(f\"{PATH_REPO}/exercises/{config_hash}.yaml\")\n",
    "config_yaml_2[\"config\"][\"data\"]"
   ]
  },
  {
   "cell_type": "markdown",
   "metadata": {},
   "source": [
    "#### json"
   ]
  },
  {
   "cell_type": "code",
   "execution_count": 19,
   "metadata": {},
   "outputs": [],
   "source": [
    "def write_json(x, file):\n",
    "    with open(file, \"w\") as con:\n",
    "        json.dump(x, con, sort_keys=False)"
   ]
  },
  {
   "cell_type": "code",
   "execution_count": 20,
   "metadata": {},
   "outputs": [
    {
     "data": {
      "text/plain": [
       "'/Users/sbstn/repos/mlim/exercises/c1f513ac8fc79b14debee8b02705dd8ae0a528f5dac27bc16b333d71e7904b22.json'"
      ]
     },
     "execution_count": 20,
     "metadata": {},
     "output_type": "execute_result"
    }
   ],
   "source": [
    "f\"{PATH_REPO}/exercises/{config_hash}.json\""
   ]
  },
  {
   "cell_type": "code",
   "execution_count": 21,
   "metadata": {},
   "outputs": [],
   "source": [
    "write_json(config, f\"{PATH_REPO}/exercises/{config_hash}.json\")"
   ]
  },
  {
   "cell_type": "code",
   "execution_count": 22,
   "metadata": {},
   "outputs": [
    {
     "data": {
      "text/plain": [
       "{'variable_basket': 'basket_hash',\n",
       " 'variable_values': ['j'],\n",
       " 'batch_size': 1000,\n",
       " 'shuffle': True,\n",
       " 'n_negative_samples': 20,\n",
       " 'power': 0.75}"
      ]
     },
     "execution_count": 22,
     "metadata": {},
     "output_type": "execute_result"
    }
   ],
   "source": [
    "config_json_2 = read_json(f\"{PATH_REPO}/exercises/{config_hash}.json\")\n",
    "config_json_2[\"config\"][\"data\"]"
   ]
  },
  {
   "cell_type": "markdown",
   "metadata": {},
   "source": [
    "### Print config"
   ]
  },
  {
   "cell_type": "markdown",
   "metadata": {},
   "source": [
    "#### yaml"
   ]
  },
  {
   "cell_type": "code",
   "execution_count": 23,
   "metadata": {},
   "outputs": [
    {
     "name": "stdout",
     "output_type": "stream",
     "text": [
      "tsne_data_kwargs:\n",
      "  batch: 3000\n",
      "  epoch: 4\n",
      "  l2norm: true\n",
      "  path_results: ./results/p2v-map-example\n",
      "  pca: null\n",
      "tsne_kwargs:\n",
      "  angle: 0.5\n",
      "  init: pca\n",
      "  n_components: 2\n",
      "  n_iter: 4000\n",
      "  perplexity: 15\n",
      "  random_state: 1\n",
      "  verbose: 0\n",
      "\n"
     ]
    }
   ],
   "source": [
    "print(yaml.dump(config[\"config\"][\"tsne\"]))"
   ]
  },
  {
   "cell_type": "code",
   "execution_count": 24,
   "metadata": {},
   "outputs": [
    {
     "name": "stdout",
     "output_type": "stream",
     "text": [
      "tsne_data_kwargs:\n",
      "    batch: 3000\n",
      "    epoch: 4\n",
      "    l2norm: true\n",
      "    path_results: ./results/p2v-map-example\n",
      "    pca: null\n",
      "tsne_kwargs:\n",
      "    angle: 0.5\n",
      "    init: pca\n",
      "    n_components: 2\n",
      "    n_iter: 4000\n",
      "    perplexity: 15\n",
      "    random_state: 1\n",
      "    verbose: 0\n",
      "\n"
     ]
    }
   ],
   "source": [
    "print(yaml.dump(config[\"config\"][\"tsne\"], indent=4))"
   ]
  },
  {
   "cell_type": "markdown",
   "metadata": {},
   "source": [
    "#### json"
   ]
  },
  {
   "cell_type": "code",
   "execution_count": 25,
   "metadata": {},
   "outputs": [
    {
     "name": "stdout",
     "output_type": "stream",
     "text": [
      "{\"tsne_data_kwargs\": {\"epoch\": 4, \"batch\": 3000, \"l2norm\": true, \"pca\": null, \"path_results\": \"./results/p2v-map-example\"}, \"tsne_kwargs\": {\"random_state\": 1, \"n_components\": 2, \"n_iter\": 4000, \"perplexity\": 15, \"init\": \"pca\", \"angle\": 0.5, \"verbose\": 0}}\n"
     ]
    }
   ],
   "source": [
    "print(json.dumps(config[\"config\"][\"tsne\"]))"
   ]
  },
  {
   "cell_type": "code",
   "execution_count": 26,
   "metadata": {},
   "outputs": [
    {
     "name": "stdout",
     "output_type": "stream",
     "text": [
      "{\n",
      "    \"tsne_data_kwargs\": {\n",
      "        \"batch\": 3000,\n",
      "        \"epoch\": 4,\n",
      "        \"l2norm\": true,\n",
      "        \"path_results\": \"./results/p2v-map-example\",\n",
      "        \"pca\": null\n",
      "    },\n",
      "    \"tsne_kwargs\": {\n",
      "        \"angle\": 0.5,\n",
      "        \"init\": \"pca\",\n",
      "        \"n_components\": 2,\n",
      "        \"n_iter\": 4000,\n",
      "        \"perplexity\": 15,\n",
      "        \"random_state\": 1,\n",
      "        \"verbose\": 0\n",
      "    }\n",
      "}\n"
     ]
    }
   ],
   "source": [
    "print(json.dumps(config[\"config\"][\"tsne\"], indent=4, sort_keys=True))"
   ]
  },
  {
   "cell_type": "code",
   "execution_count": 27,
   "metadata": {},
   "outputs": [
    {
     "name": "stdout",
     "output_type": "stream",
     "text": [
      "{\n",
      "    \"tsne_data_kwargs\": {\n",
      "        \"epoch\": 4,\n",
      "        \"batch\": 3000,\n",
      "        \"l2norm\": true,\n",
      "        \"pca\": null,\n",
      "        \"path_results\": \"./results/p2v-map-example\"\n",
      "    },\n",
      "    \"tsne_kwargs\": {\n",
      "        \"random_state\": 1,\n",
      "        \"n_components\": 2,\n",
      "        \"n_iter\": 4000,\n",
      "        \"perplexity\": 15,\n",
      "        \"init\": \"pca\",\n",
      "        \"angle\": 0.5,\n",
      "        \"verbose\": 0\n",
      "    }\n",
      "}\n"
     ]
    }
   ],
   "source": [
    "# not sorting keys will keep original order, probably easier for human users\n",
    "print(json.dumps(config[\"config\"][\"tsne\"], indent=4))"
   ]
  },
  {
   "cell_type": "markdown",
   "metadata": {},
   "source": [
    "## Class for managing configuration files\n",
    "\n",
    "Let's put it all together"
   ]
  },
  {
   "cell_type": "code",
   "execution_count": 28,
   "metadata": {},
   "outputs": [],
   "source": [
    "class Config():\n",
    "\n",
    "    def __init__(self, config=None, file=None, method=\"yaml\", indent=4):\n",
    "\n",
    "        self.method = method\n",
    "        self.indent = indent\n",
    "        self.reader = self._reader()\n",
    "        self.writer = self._writer()\n",
    "        self.printer = self._printer()\n",
    "        \n",
    "        if config is not None and file is not None:\n",
    "            raise Exception(\"Either provide `config` or `file`\")\n",
    "        if config is not None:\n",
    "            self.config = config\n",
    "        if file is not None:\n",
    "            self.file = file\n",
    "            self.read_config()\n",
    "            assert np.all(\n",
    "                [x in self.config[\"config\"] for x in self.config[\"pipeline\"]]\n",
    "            )\n",
    "        \n",
    "        self.author = self.config[\"author\"]\n",
    "        self.project = self.config[\"project\"]\n",
    "        self.version = self.config[\"version\"]\n",
    "\n",
    "    def __getitem__(self, x):\n",
    "        return self.config[x]\n",
    "            \n",
    "    def return_config(self):\n",
    "        return self.config\n",
    "            \n",
    "    def read_config(self):\n",
    "        with open(self.file, \"r\") as con:\n",
    "            config = self.reader(con)\n",
    "        self.config = config\n",
    "        self.hash = dict_hash.sha256(self.config[\"config\"])\n",
    "\n",
    "    def write_config(self, path=\"\"):\n",
    "        with open(f\"{path}{self.hash}.{self.method}\", \"w\") as con:\n",
    "            self.writer(self.config, con, sort_keys=False)\n",
    "\n",
    "    def print_config(self):\n",
    "        print(f\"Project = {self.project}\")\n",
    "        print(f\"Author = {self.author}\")\n",
    "        print(f\"Config version = {self.version}\")\n",
    "        print(f\"\\nConfig content:\")\n",
    "        print(\n",
    "            self.printer(self.config[\"config\"], indent=self.indent, sort_keys=False)\n",
    "        )\n",
    "\n",
    "    def _reader(self):\n",
    "        reader_methods = {\n",
    "            \"yaml\": yaml.safe_load,\n",
    "            \"json\": json.load,\n",
    "        }\n",
    "        return reader_methods[self.method]\n",
    "\n",
    "    def _writer(self):\n",
    "        writer_methods = {\n",
    "            \"yaml\": yaml.dump,\n",
    "            \"json\": json.dump,\n",
    "        }\n",
    "        return writer_methods[self.method]\n",
    "    \n",
    "    def _printer(self):\n",
    "        printer_methods = {\n",
    "            \"yaml\": yaml.dump,\n",
    "            \"json\": json.dumps,\n",
    "        }\n",
    "        return printer_methods[self.method]"
   ]
  },
  {
   "cell_type": "markdown",
   "metadata": {},
   "source": [
    "Some additional ideas:\n",
    "- detect file type for config file name\n",
    "- implement parent class for base functionality, child classes for `yaml` and `json`\n",
    "- ... \n",
    "\n",
    "## Read config"
   ]
  },
  {
   "cell_type": "code",
   "execution_count": 29,
   "metadata": {},
   "outputs": [],
   "source": [
    "config = Config(file=f\"{PATH_REPO}/exercises/e01-config.yaml\")"
   ]
  },
  {
   "cell_type": "code",
   "execution_count": 30,
   "metadata": {},
   "outputs": [
    {
     "data": {
      "text/plain": [
       "{'project': 'P2V-MAP',\n",
       " 'author': 'sebastian',\n",
       " 'version': 1.2,\n",
       " 'pipeline': ['data', 'p2v', 'tsne'],\n",
       " 'config': {'data': {'variable_basket': 'basket_hash',\n",
       "   'variable_values': ['j'],\n",
       "   'batch_size': 1000,\n",
       "   'shuffle': True,\n",
       "   'n_negative_samples': 20,\n",
       "   'power': 0.75},\n",
       "  'p2v': {'p2v_kwargs': {'size': 15,\n",
       "    'bias_negative_sampling': True,\n",
       "    'product_bias_negative_sampling': False,\n",
       "    'normalise_weights': False,\n",
       "    'regularisation': None,\n",
       "    'use_covariates': False,\n",
       "    'optimizer': {'method': 'adam',\n",
       "     'control': {'beta1': 0.9, 'beta2': 0.999, 'epsilon': '1e-08'}},\n",
       "    'path_results': './results/p2v-map-example',\n",
       "    'n_batch_save': 1000,\n",
       "    'n_batch_validation': 1000000,\n",
       "    'n_batch_print': 1000,\n",
       "    'n_products': 150,\n",
       "    'verbose': 0,\n",
       "    'train_streamer': None,\n",
       "    'validation_streamer': None,\n",
       "    'test_streamer': None},\n",
       "   'p2v_train_kwargs': {'n_epoch': 5, 'learning_rate': 0.0005}},\n",
       "  'tsne': {'tsne_data_kwargs': {'epoch': 4,\n",
       "    'batch': 3000,\n",
       "    'l2norm': True,\n",
       "    'pca': None,\n",
       "    'path_results': './results/p2v-map-example'},\n",
       "   'tsne_kwargs': {'random_state': 1,\n",
       "    'n_components': 2,\n",
       "    'n_iter': 4000,\n",
       "    'perplexity': 15,\n",
       "    'init': 'pca',\n",
       "    'angle': 0.5,\n",
       "    'verbose': 0}}}}"
      ]
     },
     "execution_count": 30,
     "metadata": {},
     "output_type": "execute_result"
    }
   ],
   "source": [
    "config.config"
   ]
  },
  {
   "cell_type": "markdown",
   "metadata": {},
   "source": [
    "## Get method"
   ]
  },
  {
   "cell_type": "code",
   "execution_count": 31,
   "metadata": {},
   "outputs": [
    {
     "data": {
      "text/plain": [
       "'sebastian'"
      ]
     },
     "execution_count": 31,
     "metadata": {},
     "output_type": "execute_result"
    }
   ],
   "source": [
    "config[\"author\"]"
   ]
  },
  {
   "cell_type": "code",
   "execution_count": 32,
   "metadata": {},
   "outputs": [
    {
     "data": {
      "text/plain": [
       "['data', 'p2v', 'tsne']"
      ]
     },
     "execution_count": 32,
     "metadata": {},
     "output_type": "execute_result"
    }
   ],
   "source": [
    "config[\"pipeline\"]"
   ]
  },
  {
   "cell_type": "code",
   "execution_count": 33,
   "metadata": {},
   "outputs": [
    {
     "name": "stdout",
     "output_type": "stream",
     "text": [
      "data\n",
      "{\n",
      "    \"variable_basket\": \"basket_hash\",\n",
      "    \"variable_values\": [\n",
      "        \"j\"\n",
      "    ],\n",
      "    \"batch_size\": 1000,\n",
      "    \"shuffle\": true,\n",
      "    \"n_negative_samples\": 20,\n",
      "    \"power\": 0.75\n",
      "}\n",
      "p2v\n",
      "{\n",
      "    \"p2v_kwargs\": {\n",
      "        \"size\": 15,\n",
      "        \"bias_negative_sampling\": true,\n",
      "        \"product_bias_negative_sampling\": false,\n",
      "        \"normalise_weights\": false,\n",
      "        \"regularisation\": null,\n",
      "        \"use_covariates\": false,\n",
      "        \"optimizer\": {\n",
      "            \"method\": \"adam\",\n",
      "            \"control\": {\n",
      "                \"beta1\": 0.9,\n",
      "                \"beta2\": 0.999,\n",
      "                \"epsilon\": \"1e-08\"\n",
      "            }\n",
      "        },\n",
      "        \"path_results\": \"./results/p2v-map-example\",\n",
      "        \"n_batch_save\": 1000,\n",
      "        \"n_batch_validation\": 1000000,\n",
      "        \"n_batch_print\": 1000,\n",
      "        \"n_products\": 150,\n",
      "        \"verbose\": 0,\n",
      "        \"train_streamer\": null,\n",
      "        \"validation_streamer\": null,\n",
      "        \"test_streamer\": null\n",
      "    },\n",
      "    \"p2v_train_kwargs\": {\n",
      "        \"n_epoch\": 5,\n",
      "        \"learning_rate\": 0.0005\n",
      "    }\n",
      "}\n",
      "tsne\n",
      "{\n",
      "    \"tsne_data_kwargs\": {\n",
      "        \"epoch\": 4,\n",
      "        \"batch\": 3000,\n",
      "        \"l2norm\": true,\n",
      "        \"pca\": null,\n",
      "        \"path_results\": \"./results/p2v-map-example\"\n",
      "    },\n",
      "    \"tsne_kwargs\": {\n",
      "        \"random_state\": 1,\n",
      "        \"n_components\": 2,\n",
      "        \"n_iter\": 4000,\n",
      "        \"perplexity\": 15,\n",
      "        \"init\": \"pca\",\n",
      "        \"angle\": 0.5,\n",
      "        \"verbose\": 0\n",
      "    }\n",
      "}\n"
     ]
    }
   ],
   "source": [
    "for stage in config[\"pipeline\"]:\n",
    "    print(stage)\n",
    "    print(\n",
    "        json.dumps(\n",
    "            config[\"config\"][stage],\n",
    "            indent=4,\n",
    "            sort_keys=False\n",
    "        )\n",
    "    )"
   ]
  },
  {
   "cell_type": "markdown",
   "metadata": {},
   "source": [
    "## Return config as `dict`"
   ]
  },
  {
   "cell_type": "code",
   "execution_count": 34,
   "metadata": {},
   "outputs": [
    {
     "data": {
      "text/plain": [
       "{'project': 'P2V-MAP',\n",
       " 'author': 'sebastian',\n",
       " 'version': 1.2,\n",
       " 'pipeline': ['data', 'p2v', 'tsne'],\n",
       " 'config': {'data': {'variable_basket': 'basket_hash',\n",
       "   'variable_values': ['j'],\n",
       "   'batch_size': 1000,\n",
       "   'shuffle': True,\n",
       "   'n_negative_samples': 20,\n",
       "   'power': 0.75},\n",
       "  'p2v': {'p2v_kwargs': {'size': 15,\n",
       "    'bias_negative_sampling': True,\n",
       "    'product_bias_negative_sampling': False,\n",
       "    'normalise_weights': False,\n",
       "    'regularisation': None,\n",
       "    'use_covariates': False,\n",
       "    'optimizer': {'method': 'adam',\n",
       "     'control': {'beta1': 0.9, 'beta2': 0.999, 'epsilon': '1e-08'}},\n",
       "    'path_results': './results/p2v-map-example',\n",
       "    'n_batch_save': 1000,\n",
       "    'n_batch_validation': 1000000,\n",
       "    'n_batch_print': 1000,\n",
       "    'n_products': 150,\n",
       "    'verbose': 0,\n",
       "    'train_streamer': None,\n",
       "    'validation_streamer': None,\n",
       "    'test_streamer': None},\n",
       "   'p2v_train_kwargs': {'n_epoch': 5, 'learning_rate': 0.0005}},\n",
       "  'tsne': {'tsne_data_kwargs': {'epoch': 4,\n",
       "    'batch': 3000,\n",
       "    'l2norm': True,\n",
       "    'pca': None,\n",
       "    'path_results': './results/p2v-map-example'},\n",
       "   'tsne_kwargs': {'random_state': 1,\n",
       "    'n_components': 2,\n",
       "    'n_iter': 4000,\n",
       "    'perplexity': 15,\n",
       "    'init': 'pca',\n",
       "    'angle': 0.5,\n",
       "    'verbose': 0}}}}"
      ]
     },
     "execution_count": 34,
     "metadata": {},
     "output_type": "execute_result"
    }
   ],
   "source": [
    "config.return_config()"
   ]
  },
  {
   "cell_type": "markdown",
   "metadata": {},
   "source": [
    "## Print configuration"
   ]
  },
  {
   "cell_type": "code",
   "execution_count": 35,
   "metadata": {},
   "outputs": [
    {
     "name": "stdout",
     "output_type": "stream",
     "text": [
      "Project = P2V-MAP\n",
      "Author = sebastian\n",
      "Config version = 1.2\n",
      "\n",
      "Config content:\n",
      "data:\n",
      "    variable_basket: basket_hash\n",
      "    variable_values:\n",
      "    - j\n",
      "    batch_size: 1000\n",
      "    shuffle: true\n",
      "    n_negative_samples: 20\n",
      "    power: 0.75\n",
      "p2v:\n",
      "    p2v_kwargs:\n",
      "        size: 15\n",
      "        bias_negative_sampling: true\n",
      "        product_bias_negative_sampling: false\n",
      "        normalise_weights: false\n",
      "        regularisation: null\n",
      "        use_covariates: false\n",
      "        optimizer:\n",
      "            method: adam\n",
      "            control:\n",
      "                beta1: 0.9\n",
      "                beta2: 0.999\n",
      "                epsilon: 1e-08\n",
      "        path_results: ./results/p2v-map-example\n",
      "        n_batch_save: 1000\n",
      "        n_batch_validation: 1000000\n",
      "        n_batch_print: 1000\n",
      "        n_products: 150\n",
      "        verbose: 0\n",
      "        train_streamer: null\n",
      "        validation_streamer: null\n",
      "        test_streamer: null\n",
      "    p2v_train_kwargs:\n",
      "        n_epoch: 5\n",
      "        learning_rate: 0.0005\n",
      "tsne:\n",
      "    tsne_data_kwargs:\n",
      "        epoch: 4\n",
      "        batch: 3000\n",
      "        l2norm: true\n",
      "        pca: null\n",
      "        path_results: ./results/p2v-map-example\n",
      "    tsne_kwargs:\n",
      "        random_state: 1\n",
      "        n_components: 2\n",
      "        n_iter: 4000\n",
      "        perplexity: 15\n",
      "        init: pca\n",
      "        angle: 0.5\n",
      "        verbose: 0\n",
      "\n"
     ]
    }
   ],
   "source": [
    "config.print_config()"
   ]
  },
  {
   "cell_type": "markdown",
   "metadata": {},
   "source": [
    "## Configuration hash (fingerprint)"
   ]
  },
  {
   "cell_type": "code",
   "execution_count": 36,
   "metadata": {},
   "outputs": [
    {
     "data": {
      "text/plain": [
       "'c1f513ac8fc79b14debee8b02705dd8ae0a528f5dac27bc16b333d71e7904b22'"
      ]
     },
     "execution_count": 36,
     "metadata": {},
     "output_type": "execute_result"
    }
   ],
   "source": [
    "config.hash"
   ]
  },
  {
   "cell_type": "markdown",
   "metadata": {},
   "source": [
    "## Write configuration"
   ]
  },
  {
   "cell_type": "code",
   "execution_count": 37,
   "metadata": {},
   "outputs": [],
   "source": [
    "config.write_config(path=f\"{PATH_REPO}/exercises/\")"
   ]
  },
  {
   "cell_type": "code",
   "execution_count": 38,
   "metadata": {},
   "outputs": [],
   "source": [
    "def get_md5(file):\n",
    "    return hashlib.md5(open(file, \"rb\").read()).hexdigest()"
   ]
  },
  {
   "cell_type": "code",
   "execution_count": 39,
   "metadata": {},
   "outputs": [],
   "source": [
    "assert (\n",
    "    get_md5(f\"{PATH_REPO}/exercises/e01-config.yaml\")==\\\n",
    "    get_md5(f\"{PATH_REPO}/exercises/c1f513ac8fc79b14debee8b02705dd8ae0a528f5dac27bc16b333d71e7904b22.yaml\")\n",
    ")"
   ]
  },
  {
   "cell_type": "markdown",
   "metadata": {},
   "source": [
    "## Initialize from `dict`"
   ]
  },
  {
   "cell_type": "code",
   "execution_count": 40,
   "metadata": {},
   "outputs": [],
   "source": [
    "config_2 = Config(config=config.config)"
   ]
  },
  {
   "cell_type": "code",
   "execution_count": 41,
   "metadata": {},
   "outputs": [
    {
     "data": {
      "text/plain": [
       "{'project': 'P2V-MAP',\n",
       " 'author': 'sebastian',\n",
       " 'version': 1.2,\n",
       " 'pipeline': ['data', 'p2v', 'tsne'],\n",
       " 'config': {'data': {'variable_basket': 'basket_hash',\n",
       "   'variable_values': ['j'],\n",
       "   'batch_size': 1000,\n",
       "   'shuffle': True,\n",
       "   'n_negative_samples': 20,\n",
       "   'power': 0.75},\n",
       "  'p2v': {'p2v_kwargs': {'size': 15,\n",
       "    'bias_negative_sampling': True,\n",
       "    'product_bias_negative_sampling': False,\n",
       "    'normalise_weights': False,\n",
       "    'regularisation': None,\n",
       "    'use_covariates': False,\n",
       "    'optimizer': {'method': 'adam',\n",
       "     'control': {'beta1': 0.9, 'beta2': 0.999, 'epsilon': '1e-08'}},\n",
       "    'path_results': './results/p2v-map-example',\n",
       "    'n_batch_save': 1000,\n",
       "    'n_batch_validation': 1000000,\n",
       "    'n_batch_print': 1000,\n",
       "    'n_products': 150,\n",
       "    'verbose': 0,\n",
       "    'train_streamer': None,\n",
       "    'validation_streamer': None,\n",
       "    'test_streamer': None},\n",
       "   'p2v_train_kwargs': {'n_epoch': 5, 'learning_rate': 0.0005}},\n",
       "  'tsne': {'tsne_data_kwargs': {'epoch': 4,\n",
       "    'batch': 3000,\n",
       "    'l2norm': True,\n",
       "    'pca': None,\n",
       "    'path_results': './results/p2v-map-example'},\n",
       "   'tsne_kwargs': {'random_state': 1,\n",
       "    'n_components': 2,\n",
       "    'n_iter': 4000,\n",
       "    'perplexity': 15,\n",
       "    'init': 'pca',\n",
       "    'angle': 0.5,\n",
       "    'verbose': 0}}}}"
      ]
     },
     "execution_count": 41,
     "metadata": {},
     "output_type": "execute_result"
    }
   ],
   "source": [
    "config_2.config"
   ]
  },
  {
   "cell_type": "markdown",
   "metadata": {},
   "source": [
    "&mdash; <br>\n",
    "Dr. Sebastian Gabel <br>\n",
    "Machine Learning in Marketing &ndash; Exercise 2 <br>\n",
    "2020 <br>"
   ]
  }
 ],
 "metadata": {
  "kernelspec": {
   "display_name": "Python 3",
   "language": "python",
   "name": "python3"
  },
  "language_info": {
   "codemirror_mode": {
    "name": "ipython",
    "version": 3
   },
   "file_extension": ".py",
   "mimetype": "text/x-python",
   "name": "python",
   "nbconvert_exporter": "python",
   "pygments_lexer": "ipython3",
   "version": "3.8.6"
  }
 },
 "nbformat": 4,
 "nbformat_minor": 4
}
